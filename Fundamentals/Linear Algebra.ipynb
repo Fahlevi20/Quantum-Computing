{
 "cells": [
  {
   "cell_type": "code",
   "execution_count": 6,
   "metadata": {},
   "outputs": [],
   "source": [
    "import numpy as np\n",
    "import math\n",
    "from numpy import linalg as LA\n",
    "from scipy.linalg import expm, sinm, cosm"
   ]
  },
  {
   "cell_type": "markdown",
   "metadata": {},
   "source": [
    "# Linear Algebra (Currently in development)"
   ]
  },
  {
   "cell_type": "markdown",
   "metadata": {},
   "source": [
    "### Eigenvalues and Eigenvectors\n",
    "\n",
    "Let $M$ be a symmetric matrix, we say that $v$ is a eigenvector and $\\lambda$ a eigenvalue of $M$ if the following equation holds\n",
    "\n",
    "$$\n",
    "  Av = \\lambda v\n",
    "$$"
   ]
  },
  {
   "cell_type": "code",
   "execution_count": 7,
   "metadata": {},
   "outputs": [],
   "source": [
    "#Let A be the adjacency matrix of G = C_3, i.e, the triangle graph\n",
    "A = np.array([[0, 1, 1], \n",
    "              [1, 0, 1],\n",
    "              [1, 1, 0]])\n",
    "\n",
    "#Calculate the eigenvalues\n",
    "\n",
    "#EIGENVALUES\n",
    "lambd = np.array([-1, -1, 2])\n",
    "\n",
    "#EIGENVECTORS\n",
    "v = np.array([[-1, -1, 1],\n",
    "              [ 1,  0, 1],\n",
    "              [ 0,  1, 1]])"
   ]
  },
  {
   "cell_type": "markdown",
   "metadata": {},
   "source": [
    "$$\n",
    "   A = \\begin{pmatrix}\n",
    "        0 & 1 & 1\\\\\n",
    "        1 & 0 & 1\\\\\n",
    "        1 & 1 & 0\n",
    "       \\end{pmatrix}\n",
    "$$\n",
    "\n",
    "Then we have two eigenvalues, $\\lambda_1 = -1$ with multiplicity two and $\\lambda_2 = 2$ with multiplicity one, which give us the following:\n",
    "\n",
    "$$\n",
    "    \\lambda_1 = -1 \\Rightarrow v_1 = \\begin{pmatrix}\n",
    "                   -1\\\\\n",
    "                    1\\\\\n",
    "                    0 \n",
    "                \\end{pmatrix},\\; \\;\n",
    "                                  v_2 = \\begin{pmatrix}\n",
    "                   -1\\\\\n",
    "                    0\\\\\n",
    "                    1 \n",
    "                \\end{pmatrix}\\\\\n",
    "$$\n",
    "\n",
    "$$\n",
    "     \\lambda_2 = 2 \\Rightarrow v_3 = \\begin{pmatrix}\n",
    "                    1\\\\\n",
    "                    1\\\\\n",
    "                    1 \n",
    "                \\end{pmatrix}\n",
    "$$\n",
    "\n",
    "*A quick remark, the multiplicity of a eigenvalue is the dimension of its eigenspace.*"
   ]
  },
  {
   "cell_type": "code",
   "execution_count": 8,
   "metadata": {},
   "outputs": [
    {
     "name": "stdout",
     "output_type": "stream",
     "text": [
      "[ True  True  True]\n",
      "[ True  True  True]\n",
      "[ True  True  True]\n"
     ]
    }
   ],
   "source": [
    "print(np.isclose(A@v[:,0],lambd[0]*v[:, 0])) #Av_0 = lambd_0 * v_0\n",
    "print(np.isclose(A@v[:,1],lambd[1]*v[:, 1])) #Av_1 = lambd_1 * v_1\n",
    "print(np.isclose(A@v[:,2],lambd[2]*v[:, 2])) #Av_2 = lambd_2 * v_2"
   ]
  },
  {
   "cell_type": "markdown",
   "metadata": {},
   "source": [
    "And this is known as the fundamental property of the eigenvectors.\n",
    "\n",
    "Now, we say that $M_{nxn}$ is a diagonalizable matrix, if and only if, $M$ have a set of $n$ linearly independent eigenvectors (i.e none of its eigenvectors cannot be written as a linear combination of others), and can be factorized as\n",
    "\n",
    "$$\n",
    "    M = PDP^{-1}\n",
    "$$\n",
    "\n",
    "Where the matrix $P$ is given by the eigenvectors of A as its columns and $D$ a diagonal matrix with the eigenvalues.\n",
    "\n",
    "This relation can be acquired by the fundamental property of the eigenvectors,\n",
    "\n",
    "$$\n",
    "    Av = \\lambda v\\\\\n",
    "    AP = PD\\\\\n",
    "    A = PDP^{-1}\\\\\n",
    "$$\n",
    "\n"
   ]
  },
  {
   "cell_type": "code",
   "execution_count": 9,
   "metadata": {},
   "outputs": [
    {
     "data": {
      "text/plain": [
       "array([[ True,  True,  True],\n",
       "       [ True,  True,  True],\n",
       "       [ True,  True,  True]])"
      ]
     },
     "execution_count": 9,
     "metadata": {},
     "output_type": "execute_result"
    }
   ],
   "source": [
    "np.isclose(v@np.diag(lambd)@LA.inv(v), A) #A = PDP^-1"
   ]
  },
  {
   "cell_type": "markdown",
   "metadata": {},
   "source": [
    "And we have that a function $f(M)$, where $M$ is symmetric and diagonalizable matrix can be seen as\n",
    "\n",
    "$$\n",
    "    f(M) = Pf(D)P^{-1}\n",
    "$$"
   ]
  },
  {
   "cell_type": "code",
   "execution_count": 11,
   "metadata": {},
   "outputs": [
    {
     "data": {
      "text/plain": [
       "array([[ True,  True,  True],\n",
       "       [ True,  True,  True],\n",
       "       [ True,  True,  True]])"
      ]
     },
     "execution_count": 11,
     "metadata": {},
     "output_type": "execute_result"
    }
   ],
   "source": [
    "np.isclose(expm(A), v@np.diag(math.e**lambd)@LA.inv(v)) #exp(A) = Pexp(D)P^-1"
   ]
  },
  {
   "cell_type": "markdown",
   "metadata": {},
   "source": [
    "Furthermore, let A be a matrix with distinct eigenvalues $\\lambda_0, \\lambda_1, \\dots, \\lambda_{n-1}$ and $E_0, E_1, \\dots, E_{n-1}$ the orthogonal projections $E_i$ onto its eigenspaces. Then $A$ can be written as\n",
    "\n",
    "$$\n",
    "    A = \\sum_{i=0}^{n-1} \\lambda_i E_i\n",
    "$$\n",
    "\n",
    "Which is called the Spectral Decomposition of A. And if $f$ is a analityc function applied on $A$, then $f(A)$ is defined in terms of a power series as\n",
    "\n",
    "$$\n",
    "   f(A) = \\sum_{i=0}^{n-1} f(\\lambda_i) E_i\n",
    "$$\n",
    "\n",
    "And as immediate consequence we get the following\n",
    "\n",
    "$$\n",
    "   U(t) = exp(itA) = \\sum_{i=0}^{n-1} exp(it\\lambda_i) E_i\n",
    "$$"
   ]
  }
 ],
 "metadata": {
  "kernelspec": {
   "display_name": "Python 3",
   "language": "python",
   "name": "python3"
  },
  "language_info": {
   "codemirror_mode": {
    "name": "ipython",
    "version": 3
   },
   "file_extension": ".py",
   "mimetype": "text/x-python",
   "name": "python",
   "nbconvert_exporter": "python",
   "pygments_lexer": "ipython3",
   "version": "3.8.2"
  }
 },
 "nbformat": 4,
 "nbformat_minor": 4
}
