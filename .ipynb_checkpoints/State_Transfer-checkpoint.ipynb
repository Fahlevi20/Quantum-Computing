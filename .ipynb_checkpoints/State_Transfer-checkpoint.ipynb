{
 "cells": [
  {
   "cell_type": "code",
   "execution_count": 2,
   "metadata": {},
   "outputs": [],
   "source": [
    "import numpy as np\n",
    "from scipy.linalg import expm, sinm, cosm\n",
    "import matplotlib.pyplot as plt\n",
    "import pandas as pd\n",
    "import seaborn as sns\n",
    "import math\n",
    "from scipy import stats\n",
    "%matplotlib inline\n",
    "\n",
    "from IPython.display import Image, display, Math, Latex\n",
    "sns.set(color_codes=True)"
   ]
  },
  {
   "cell_type": "markdown",
   "metadata": {},
   "source": [
    "# Perfect State Transfer and Uniform Mixing"
   ]
  },
  {
   "cell_type": "markdown",
   "metadata": {},
   "source": [
    "As we have seen in the introduction article about __[CTQW (Continuous Time Quantum Walks)](https://github.com/matheusmtta/Quantum-Computing/blob/master/CTQW.ipynb)__\\\n",
    "\n",
    "If A is the adjacency matrix of a graph G, a Quantum Walk is defined by the trasition matrix $U(t)$,\n",
    "\n",
    "$$\n",
    "    U(t) = exp(itA)\n",
    "$$\n",
    "\n",
    "In this article we are concerned about how these transition matrices works and some of its special properties in quantum states.\n",
    "\n",
    "Since we are working with quantum information we are interested in the squared absolute value of $U(t)$ entries, in order to guarantee its states measurement.\n",
    "\n",
    "These matrices are called unitary, i.e, $U^*U = UU^* = I$ and the norm of all of its columns equals one. Hence we have that $\\overline{U(t)} = U(-t)$, and we define a doubly sthocastic mixing matrix $M(t)$ by the Schur Product of $U(t)$ \n",
    "\n",
    "$$\n",
    "    M(t) = U(t)\\circ U(-t)\n",
    "$$\n",
    "\n",
    "And $M(t)$ is a $nxn$ square matrix indexed by the vertices of $A(G)$. \n",
    "\n",
    "Futhermore as each column give us the probability of the quantum walker be in the vertex $v$ $\\in$ $V(G)$ at a given time $t$, we can evaluate some special cases of CTQW over an specfic graph at a certain time.\n",
    "\n",
    "The extreme cases that we are interested are known as Perfect State Transfer and Uniform Mixing, that will be discussed with more detail further."
   ]
  },
  {
   "cell_type": "markdown",
   "metadata": {},
   "source": [
    "# IN PROGRESS"
   ]
  }
 ],
 "metadata": {
  "kernelspec": {
   "display_name": "Python 3",
   "language": "python",
   "name": "python3"
  },
  "language_info": {
   "codemirror_mode": {
    "name": "ipython",
    "version": 3
   },
   "file_extension": ".py",
   "mimetype": "text/x-python",
   "name": "python",
   "nbconvert_exporter": "python",
   "pygments_lexer": "ipython3",
   "version": "3.6.9"
  }
 },
 "nbformat": 4,
 "nbformat_minor": 2
}
