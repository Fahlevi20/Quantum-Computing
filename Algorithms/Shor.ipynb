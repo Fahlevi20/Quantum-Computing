{
 "cells": [
  {
   "cell_type": "code",
   "execution_count": 132,
   "metadata": {},
   "outputs": [],
   "source": [
    "import matplotlib.pyplot as plt\n",
    "%matplotlib inline\n",
    "import numpy as np\n",
    "\n",
    "from qiskit import *\n",
    "from qiskit.providers.ibmq import least_busy\n",
    "from qiskit import QuantumCircuit, ClassicalRegister, QuantumRegister, execute\n",
    "from qiskit.quantum_info import Statevector\n",
    "from qiskit.circuit.library import QFT\n",
    "from qiskit.visualization import plot_state_qsphere\n",
    "from qiskit.quantum_info import Operator\n",
    "from qiskit.tools.monitor import job_monitor\n",
    "\n",
    "from qiskit.tools.visualization import plot_histogram\n",
    "from IPython.display import display, Math, Latex\n",
    "import math"
   ]
  },
  {
   "cell_type": "markdown",
   "metadata": {},
   "source": [
    "# An encryption problem"
   ]
  },
  {
   "cell_type": "markdown",
   "metadata": {},
   "source": [
    "A pretty well-known problem in computer science is the problem of encryptying messages, i.e, given a message $m$, a sender $A$ and a receiver $B$, we want to send the message $m$ encrypted, so that only $B$ will be able to decrypt the information sended from $A$. We can ilustrate this situation by a simple example: Lets suppose Alice wants to send her secret chocolate cake recipe to Bob, but the message will be stolen if the used information channel is unsafe, and her archenemy, Eve, will finally find out Alice's delicious secret chocolate cake recipe. And we know that both Alice and Bob have lots of padlocks, but they don't share any of its keys. Hence from that we got our main problem.\n",
    "\n",
    "$$\n",
    "\\text{How Alice could send the secret recipe to Bob, without being eavesdropped on?}\n",
    "$$\n",
    "# The Caesar's Cipher\n",
    "\n",
    "Throughout history this problem achieved huge relevance, once to be able to send secret messages to someone is a kind of communication superpower. A simple example of information cryptography enconding is The Caesar's Cipher, using it we can encode a message by shifting its characters by a constant private key $k$ in the roman alphabet\n",
    "$$\n",
    "    \\Sigma = \\text{ABCDEFGHIJKLMNOPQRSTUVWXYZ}\n",
    "$$\n",
    "\n",
    "Then, given a message $x =$ CHOCOLATE CAKE, and a encryption function with a factor private key $\\text{k} = 4$\n",
    "\n",
    "$$\n",
    "    E_k(x) = (x + \\text{k}) \\text{ mod } 26\n",
    "$$\n",
    "We get an encrypted message $y =$ GLSGSPEXI GEOI."
   ]
  },
  {
   "cell_type": "code",
   "execution_count": 143,
   "metadata": {},
   "outputs": [],
   "source": [
    "def encryptCipher(x, k):\n",
    "    encryptedStr = \"\"\n",
    "    \n",
    "    for ch in x:\n",
    "        newCh = ch\n",
    "        if (ord(ch) >= ord(\"A\") and ord(ch) <= ord(\"Z\")):\n",
    "            newCh = chr((ord(ch) - ord(\"A\") + k)%26 + ord(\"A\"))   \n",
    "            \n",
    "        encryptedStr = encryptedStr + newCh     \n",
    "\n",
    "    return encryptedStr"
   ]
  },
  {
   "cell_type": "markdown",
   "metadata": {},
   "source": [
    "And to decrypt the message, we need just to have or find out the factor $\\text{k}$ and to apply a decryption function\n",
    "\n",
    "$$\n",
    "    D_k(x) = (x - \\text{k}) \\text{ mod } 26\n",
    "$$"
   ]
  },
  {
   "cell_type": "code",
   "execution_count": 144,
   "metadata": {},
   "outputs": [],
   "source": [
    "def decryptCipher(x, k):\n",
    "    decryptedStr = \"\"\n",
    "    \n",
    "    for ch in x:\n",
    "        newCh = ch\n",
    "        if (ord(ch) >= ord(\"A\") and ord(ch) <= ord(\"Z\")):\n",
    "            newCh = chr((ord(ch) - ord(\"A\") - k + 26)%26 + ord(\"A\"))\n",
    "        decryptedStr = decryptedStr + newCh\n",
    "    \n",
    "    return decryptedStr"
   ]
  },
  {
   "cell_type": "code",
   "execution_count": 145,
   "metadata": {},
   "outputs": [
    {
     "name": "stdout",
     "output_type": "stream",
     "text": [
      "Initial message: CHOCOLATE CAKE\n",
      "Encrypted Message: GLSGSPEXI GEOI\n",
      "\n",
      "Message successfully decrypted: CHOCOLATE CAKE\n"
     ]
    }
   ],
   "source": [
    "x = \"CHOCOLATE CAKE\"\n",
    "k = 4\n",
    "\n",
    "y = encryptCipher(x, k)\n",
    "d = decryptCipher(y, k)\n",
    "\n",
    "print(f'Initial message: {x}\\nEncrypted Message: {y}\\n')\n",
    "\n",
    "if (x == d):\n",
    "    print(f\"Message successfully decrypted: {d}\")\n",
    "else:\n",
    "    print(\"Decryption Failed\")"
   ]
  },
  {
   "cell_type": "markdown",
   "metadata": {},
   "source": [
    "It's easy to see why this is not a safe encryption method, since we can easily bruteforce the initial message by testing all 26 possible private $\\text{k}$ keys. Therefore, Alice would most likely like want to use a more safe encryption algorithm to avoid any eavesdropping from her archenemy. "
   ]
  },
  {
   "cell_type": "markdown",
   "metadata": {},
   "source": [
    "# The RSA Algorithm"
   ]
  },
  {
   "cell_type": "markdown",
   "metadata": {},
   "source": [
    "An idea that could be better for Alice's and Bob's problem is developed based on public-key distribution cryptography. Alice will receive a public key from Bob, encrypt her message using it, then send it to Bob, that will decrypt the message sended by Alice with his private key. \n",
    "\n",
    "This looks a lot like with the RSA encryption protocol, heavily used to securely transmit messages over the internet. Developed by Ron Rivest, Adi Shamir e Leonard Adleman, the RSA algorithm is based on the public-key distribution cryptography model, where we have an encryption key, which is public, and a decryption key, which is private.\n",
    "\n",
    "In this cryptography protocol our user will get the public-key by the multiplication of two large prime numbers $p$ and $q$, and the private-key will also be generated by other particular use of these prime numbers. Our user can easily distribute the public key $N = pq$, while mantaining securely the individual values of $p$ and $q$, since to factor a number into two prime factors is a pretty difficult problem for classical computers.\n",
    "\n",
    "The key generator implementation can be easily described by the following steps  \n",
    "\n",
    "$$\n",
    "\\begin{align*}\n",
    "1.&\\text{ Randomly pick two large prime numbers } p \\text{ and } q \\text{, and take their product } N = pq.\\\\\n",
    "2.&\\text{ Compute Euler's Totient function } \\phi(N) = (p - 1)(q - 1) \\text{, and pick a number } e \\text{ so that, } 1 \\leq e \\leq \\phi(N) \\text{ and gcd}(e, \\phi(N)) = 1.\\\\\n",
    "3.&\\text{ Calculate the modular inverse } d \\text{ of } e \\text{ modulo } \\phi(N) \\text{ i.e, } de \\equiv 1 \\text{ mod }\\phi(N) \\text{. In other words } d \\text{ is the multiplicative inverse of } e \\text{ in } \\phi(N).\\\\\n",
    "4.&\\text{ Distribute the public-key } (N, e) \\text{ and keep the secret private-key } (p, q, d).\\\\\n",
    "\\end{align*}\n",
    "$$\n",
    "\n",
    "Hence, to encrypt a message $m$, where $m < n$, to transmit a ciphertext $c$, we just take by fast exponentiation\n",
    "\n",
    "$$\n",
    "    c = m^e\\text{ mod } n\n",
    "$$\n",
    "\n",
    "And likewise, the message receiver computes $m = c^d \\text{ mod } n$, retrieving the original $m$ message."
   ]
  },
  {
   "cell_type": "code",
   "execution_count": 169,
   "metadata": {},
   "outputs": [],
   "source": [
    "def fastExp(a, b, n):\n",
    "    ans = 1\n",
    "    #computes a^b in O(log b)\n",
    "    while b > 0:\n",
    "        if (b & 1):\n",
    "            ans = (ans * a)%n\n",
    "        a = (a*a)%n\n",
    "        b = b >> 1\n",
    "        \n",
    "    return ans"
   ]
  },
  {
   "cell_type": "code",
   "execution_count": 170,
   "metadata": {},
   "outputs": [],
   "source": [
    "def encryptRSA(m, n, e):\n",
    "    c = fastExp(m, e, n)\n",
    "    return c"
   ]
  },
  {
   "cell_type": "code",
   "execution_count": 171,
   "metadata": {},
   "outputs": [],
   "source": [
    "def decryptRSA(c, d, n):\n",
    "    m =  fastExp(c, d, n)\n",
    "    return m"
   ]
  },
  {
   "cell_type": "markdown",
   "metadata": {},
   "source": [
    "As an example, lets consider the first word of our message $x =$ \"CAKE\", and arbitrary prime numbers $p, q$ and $e$."
   ]
  },
  {
   "cell_type": "code",
   "execution_count": 219,
   "metadata": {},
   "outputs": [],
   "source": [
    "#set 'p', 'q', e and 'n'\n",
    "#CAKE = 67 65 75 69 10 \n",
    "m = 6765756910\n",
    "p = 42643801; q = 59604644783353249; e = 2097593\n",
    "n = p*q\n",
    "\n",
    "#computes 'phi(n)'\n",
    "phi_n = (p-1)*(q-1)\n",
    "\n",
    "#computes multiplicative inverse 'd' of 'e mod phi(n)' (python is strange)\n",
    "d = pow(e, -1, phi_n)"
   ]
  },
  {
   "cell_type": "code",
   "execution_count": 220,
   "metadata": {},
   "outputs": [],
   "source": [
    "c = encryptRSA(m, n, e)\n",
    "y = decryptRSA(c, d, n)"
   ]
  },
  {
   "cell_type": "code",
   "execution_count": 221,
   "metadata": {},
   "outputs": [
    {
     "name": "stdout",
     "output_type": "stream",
     "text": [
      "Initial message: 6765756910\n",
      "Encrypted ciphertext message: 587708175265402063982608\n",
      "\n",
      "Message successfully decrypted: 6765756910\n"
     ]
    }
   ],
   "source": [
    "print(f'Initial message: {m}\\nEncrypted ciphertext message: {c}\\n')\n",
    "\n",
    "if m == y:\n",
    "    print(f\"Message successfully decrypted: {y}\")\n",
    "else:\n",
    "     print(\"Decryption Failed\")"
   ]
  },
  {
   "cell_type": "markdown",
   "metadata": {},
   "source": [
    "Now that we understood how the RSA protocol works, Alice and Bob are wondering if this might be a good choice for Alice's recipe encryption. And the answer (until now) is YES. As most simple as it might seen, the problem of factoring a number into two primes $p$, $q$ or finding the $d$ factor for a given $c$ ciphertext, i.e, breaking the encryption by finding out the private-key, is a pretty difficult problem for competers to solve. \n",
    "\n",
    "This fact comes from the notion that in practice the prime numbers used to encode messages like this are of the order of $10^100$. Therefore algorithms of complexity $O\\big(\\sqrt{N}\\big)$ such as Euler's Totient function algorithm, would take an exponential time to run.\n",
    "\n",
    "Since, let $N$ be a positive integer and $k = \\log_2 N$. A complexity of $O\\big(\\sqrt{N}\\big)$ will be equivalent to $O\\big(\\sqrt{2^k}\\big)$, which is an exponential running time algorithm in terms of the input length for pratical purposes.\n",
    "\n",
    "But what would happen if we had a Quantum Computer? Is Alice's recipe still safe? *Yes*? Are you Shor about that?"
   ]
  },
  {
   "cell_type": "markdown",
   "metadata": {},
   "source": [
    "# Shor's Algorithm"
   ]
  },
  {
   "cell_type": "markdown",
   "metadata": {},
   "source": []
  },
  {
   "cell_type": "markdown",
   "metadata": {},
   "source": [
    "## References "
   ]
  },
  {
   "cell_type": "markdown",
   "metadata": {},
   "source": [
    "__[RSA Encryption | Brilliant](https://brilliant.org/wiki/rsa-encryption/)__\\\n",
    "__[RSA (sistema criptográfico)](https://pt.wikipedia.org/wiki/RSA_(sistema_criptogr%C3%A1fico))__"
   ]
  }
 ],
 "metadata": {
  "kernelspec": {
   "display_name": "Python 3",
   "language": "python",
   "name": "python3"
  },
  "language_info": {
   "codemirror_mode": {
    "name": "ipython",
    "version": 3
   },
   "file_extension": ".py",
   "mimetype": "text/x-python",
   "name": "python",
   "nbconvert_exporter": "python",
   "pygments_lexer": "ipython3",
   "version": "3.8.5"
  }
 },
 "nbformat": 4,
 "nbformat_minor": 4
}
