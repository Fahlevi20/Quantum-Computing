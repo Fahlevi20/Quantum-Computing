{
 "cells": [
  {
   "cell_type": "code",
   "execution_count": 1,
   "metadata": {},
   "outputs": [],
   "source": [
    "import matplotlib.pyplot as plt\n",
    "%matplotlib inline\n",
    "import numpy as np\n",
    "\n",
    "from qiskit import *\n",
    "from qiskit.providers.ibmq import least_busy\n",
    "from qiskit import QuantumCircuit, ClassicalRegister, QuantumRegister, execute\n",
    "from qiskit.quantum_info import Statevector\n",
    "from qiskit.visualization import plot_state_qsphere\n",
    "from qiskit.quantum_info import Operator\n",
    "\n",
    "from qiskit.tools.visualization import plot_histogram\n",
    "from IPython.display import display, Math, Latex"
   ]
  },
  {
   "cell_type": "markdown",
   "metadata": {},
   "source": [
    "# Quantum Fourier Transform"
   ]
  },
  {
   "cell_type": "markdown",
   "metadata": {},
   "source": [
    "In Quantum Computing the Quantum Fourier Transform (QFT), is the quantum analogue of the classical Fast Fourier Transform, which define a linear transformation on a string of qubits, that applies controlled phase shifts onto a superposition state. This operation is pretty well-known for its importance on many Quantum Algorithms, notably Shor's Algorithm, for factoring and computing the discrete logarithm, Quantum Phase Estimation for estimating the eigenvalues of a unitary operator, and algorithms for the hidden subgroup problem.\n",
    "\n",
    "## The period finding problem\n",
    "\n",
    "So, let $f:\\{0,\\dots, M-1\\} \\rightarrow \\{0,\\dots, M-1\\}$ be a periodic function of period $r$, so that $\\forall x \\in \\{0,\\dots, M-r-1\\}$, we have that $f(x) = f(x+r)$, and all the values $f(x), f(x+1),\\dots f(x+r-1)$ are different. We have that our goal is to find the value $r$ that defines the period.\n",
    "\n",
    "In order to extract this information from a quantum state on $n$ qubits, which in superposition give us $N = 2^n$ states, we can use the Quantum Fourier Transform and implement it in a Quantum Computer with $\\mathcal{O}(n^2)$ elementary gates. Therefore, giving us an exponential speed up when compared with the classical Fast Fourier Transform, which takes $\\mathcal{O}(NlogN) = \\mathcal{O}(2^nn)$ to solve the problem. However both functions don't have the same output, since QFT won’t give us the entries of the Fourier transform written down, but only as the amplitudes of the resulting measured states."
   ]
  },
  {
   "cell_type": "markdown",
   "metadata": {},
   "source": [
    "<img src=\"images/fourier_meme.jpg\" style=\"width:400px; height:200px\"/>"
   ]
  },
  {
   "cell_type": "markdown",
   "metadata": {},
   "source": [
    "## The Algorithm"
   ]
  },
  {
   "cell_type": "markdown",
   "metadata": {},
   "source": [
    "Effectvely the QFT is just a change of basis from the Computational Basis to the Fourier Basis, one small example that we already know is given by the function $f$ that takes a single qubit \n",
    "\n",
    "$$\n",
    "      f:\\{|0\\rangle, |1\\rangle\\} \\rightarrow \\{|+\\rangle, |-\\rangle\\} \n",
    "$$\n",
    "\n",
    "which is clearly done by the Hadarmard gate $H$, a single qubit QFT. Therefore, to the general case on state of $n$ qubits $|x\\rangle$ we define the QFT as follows\n",
    "\n",
    "$$\n",
    "    |\\chi\\rangle = QFT|x\\rangle = \\frac{1}{\\sqrt{N}}\\sum_{y = 0}^{N-1}\\exp\\big(\\frac{2\\pi i xy}{N}\\big)|y\\rangle\n",
    "$$"
   ]
  },
  {
   "cell_type": "markdown",
   "metadata": {},
   "source": [
    "Hence, from that definition we can extract our single-qubit $\\{|0\\rangle, |1\\rangle\\}$ example, so let N = 2\n",
    "\n",
    "$$\n",
    "\\begin{align*}\n",
    "    QFT|x\\rangle &= \\frac{1}{\\sqrt{2}}\\sum_{y = 0}^{N-1}\\exp\\big(\\frac{2\\pi ixy}{2}\\big)|y\\rangle\\\\\n",
    "                 &= \\frac{1}{\\sqrt{2}}\\bigg[e^{i\\pi x0}|0\\rangle + e^{i\\pi x1}|1\\rangle\\bigg]\\\\\n",
    "                 &= \\frac{1}{\\sqrt{2}}\\bigg[|0\\rangle + e^{i\\pi x}|1\\rangle\\bigg]\\\\                    \n",
    "                 &= \\begin{cases} |+\\rangle, & \\mbox{if } |x\\rangle = |0\\rangle\\\\ |-\\rangle, & \\mbox{if } |x\\rangle = |1\\rangle \\end{cases}\\\\\n",
    "\\end{align*}\n",
    "$$\n"
   ]
  },
  {
   "cell_type": "code",
   "execution_count": null,
   "metadata": {},
   "outputs": [],
   "source": []
  }
 ],
 "metadata": {
  "kernelspec": {
   "display_name": "Python 3",
   "language": "python",
   "name": "python3"
  },
  "language_info": {
   "codemirror_mode": {
    "name": "ipython",
    "version": 3
   },
   "file_extension": ".py",
   "mimetype": "text/x-python",
   "name": "python",
   "nbconvert_exporter": "python",
   "pygments_lexer": "ipython3",
   "version": "3.8.2"
  }
 },
 "nbformat": 4,
 "nbformat_minor": 4
}
