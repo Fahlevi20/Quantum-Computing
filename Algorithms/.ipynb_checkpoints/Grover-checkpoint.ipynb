{
 "cells": [
  {
   "cell_type": "code",
   "execution_count": 1,
   "metadata": {},
   "outputs": [],
   "source": [
    "import matplotlib.pyplot as plt\n",
    "%matplotlib inline\n",
    "import numpy as np\n",
    "\n",
    "from qiskit import IBMQ, BasicAer\n",
    "from qiskit.providers.ibmq import least_busy\n",
    "from qiskit import QuantumCircuit, ClassicalRegister, QuantumRegister, execute\n",
    "from qiskit.quantum_info import Statevector\n",
    "from qiskit.visualization import plot_state_qsphere\n",
    "from qiskit.quantum_info import Operator\n",
    "\n",
    "from qiskit.tools.visualization import plot_histogram\n",
    "from IPython.display import display, Math, Latex"
   ]
  },
  {
   "cell_type": "markdown",
   "metadata": {},
   "source": [
    "# Grover's Algorithm"
   ]
  },
  {
   "cell_type": "markdown",
   "metadata": {},
   "source": [
    "Grover's Algorithm is a non-deterministic Quantum Algorithm proposed by Lov Grover in 1996, that is usually known to solve the problem of \"Searching a element into an unsorted database\", which with high probability finds the searched given element, using just $\\mathcal{O}(\\sqrt{N})$ queries. The analogous classical solution for this same problem needs at the worst case $\\mathcal{O}(N)$ operations.\n",
    "\n",
    "Even though Grover's Algorithm doesn't give us a exponential speedup, this Quantum approach still provide us a quadratic improvement over the classical solution, which is still pretty useful when dealing with large $N$ inputs, and as already shown by Bennett, Bernstein, Brassard, and Vazirani Grover's algorithm is asymptotically optimal, since any quantum solution for the same problem needs at least $\\Omega(\\sqrt{N})$ queries."
   ]
  },
  {
   "cell_type": "markdown",
   "metadata": {},
   "source": [
    "<img src=\"images/grover_blue.jpg\" style=\"width:500px; height:300px\"/>"
   ]
  },
  {
   "cell_type": "markdown",
   "metadata": {},
   "source": [
    "## The Algorithm"
   ]
  },
  {
   "cell_type": "markdown",
   "metadata": {},
   "source": [
    "As already stated in the introduction, Grover's algorithm goal is to find a element $w$ in a given database of size $N = 2^n$, where $n$ is the number of qubits. The main idea of the algorithm, consists in marking the given element such as its probability of measurment is increased, which will be done by guess what? Our dear friend the $U_f$ function $f:\\{0, 1\\}^n \\rightarrow \\{0, 1\\}$, which is pretty much the same that is done in Deutsch-Josza algorithm, if your a not familiar with his idea, I strongly recommend you to take a look in the [Deutsch-Josza Algorithm](https://github.com/matheusmtta/Quantum-Computing/blob/master/Algorithms/Deutsch-Josza.ipynb) Notebook.\n",
    "\n",
    "Therefore, let $|x\\rangle$ be a quantum state on $n$ qubits, we will define our $U_w$ operator by the following\n",
    "\n",
    "$$\n",
    "\\begin{cases}\n",
    "    U_f|x\\rangle &= -|x\\rangle, \\text{ if } x = w, \\text{then } f(x) = 1 \\\\\n",
    "    U_f|x\\rangle &=  |x\\rangle, \\text{ if } x \\neq w, \\text{then } f(x) = 0 \\\\\n",
    "\\end{cases}\n",
    "$$\n",
    "\n",
    "We have shown an alternative solution for the problem of building the $U_f$ gate in the DJ Algorithm notebook using $CNOT$ gates and a ancilla qubit $|y\\rangle$, that give us a phase kick-back on the elements that we are willing to mark, however we will use a different approach in Grover's Algorithm.\n",
    "\n",
    "Besides the $U_w$ operator we will need another gate $U_{f_{0}} = 2|0\\rangle\\langle 0| - I$, that is known as the diffusor opperator of our circuit, briefly speaking it is used to create the amplitude amplification, by applying a revolution over the medium value of the amplitudes. \n",
    "\n",
    "Hence, we have the following operators\n",
    "\n",
    "$$\n",
    "    U_f = I - 2|w\\rangle\\langle w|\\\\\n",
    "    U_{f_0} = 2|0\\rangle^{\\otimes n}\\langle0|^{\\otimes n} - I\n",
    "$$\n",
    "\n",
    "But for the purpose of our following statements, lets define the diffusor operator as $D = H^{\\otimes n}U_{f_0}H^{\\otimes n}$.\n",
    "\n",
    "Now that we know the gates that will be used by our circuit, we can go through each step of the algorithm protocol."
   ]
  },
  {
   "cell_type": "markdown",
   "metadata": {},
   "source": [
    "# CIRCUIT IMAGE"
   ]
  },
  {
   "cell_type": "markdown",
   "metadata": {},
   "source": [
    "Now that we have our circuit, lets claim that our measured result at the end of the circuit $z = w$ with high probability.\n",
    "\n",
    "To show that, lets define as $|s\\rangle$ as the n-dimensional 'zero' superposition state\n",
    "\n",
    "$$\n",
    "    |s\\rangle = H^{\\otimes n}|0\\rangle^{\\otimes n} = \\frac{1}{\\sqrt{2^n}}\\sum_{x \\in \\{0, 1\\}^n}|x\\rangle\n",
    "$$\n",
    "\n",
    "And now lets derive the definition about D made above\n",
    "\n",
    "$$\n",
    "    \\begin{align*}\n",
    "        D &= H^{\\otimes n}U_{f_0}H^{\\otimes n}\\\\\n",
    "          &= H^{\\otimes n}(2|0\\rangle^{\\otimes n}\\langle0|^{\\otimes n} - I)H^{\\otimes n}\\\\\n",
    "          &= H^{\\otimes n}2|0\\rangle^{\\otimes n}\\langle0|^{\\otimes n}H^{\\otimes n} - H^{\\otimes n}IH^{\\otimes n}\\\\\n",
    "          &= |s\\rangle\\langle s| - I\n",
    "    \\end{align*}\n",
    "$$\n",
    "\n",
    "From that we have the revolution above the medium of the amplitude values, and we can say that grovers works carrying the operation $(DU_f)^{\\mathcal{O}(\\sqrt{N})}$ on the state $|s\\rangle$.\n",
    "\n",
    "Now let $\\Sigma$ be the plane spanned by $|w\\rangle$ and $|s\\rangle$, and $|w^{\\perp}\\rangle$ the orthogonal state to $|w\\rangle \\in \\Sigma$, so that $|w^{\\perp}\\rangle = \\frac{1}{\\sqrt{2^n - 1}}\\sum_{x \\in \\{0, 1\\}^n\\text{, } x \\neq w}|x\\rangle$. Therefore we have that $|s\\rangle$ can be defined as\n",
    "\n",
    "$$\n",
    "    \\begin{align*}\n",
    "        |s\\rangle &= \\sqrt{\\frac{2^n-1}{2^n}}|w^\\perp\\rangle + \\frac{1}{\\sqrt{2^n}}|w\\rangle\\\\\n",
    "                  &= \\cos \\frac{\\theta}{2}|w^\\perp\\rangle + \\sin\\frac{\\theta}{2}|w\\rangle\n",
    "    \\end{align*}\n",
    "$$\n",
    "\n",
    "And from that we can take that $\\sin\\frac{\\theta}{2} = \\frac{1}{\\sqrt{2^n}} \\Rightarrow \\theta = 2\\arcsin\\frac{1}{\\sqrt{2^n}}$"
   ]
  },
  {
   "cell_type": "markdown",
   "metadata": {},
   "source": [
    "<img src=\"images/grover_step0.png\" style=\"width:500px; height:380px\"/>"
   ]
  },
  {
   "cell_type": "markdown",
   "metadata": {},
   "source": [
    "Finally, now to complete our claim demonstration, we will go through the algorithm step by step, and see how $U_f$ and $D$ applied $\\mathcal{O}(\\sqrt{N})$ into $|s\\rangle$ give us the solution for our problem.\n",
    "\n",
    "**Step 0.** First we initialize all of ours $n$ qubits at the $|0\\rangle$ state.\n",
    "$$\n",
    "\\begin{align*}\n",
    "|\\psi\\rangle = |0\\rangle^{\\otimes n}\n",
    "\\end{align*}\n",
    "$$\n",
    "\n",
    "**Step 1.** Then we apply the Hadamard gates to put our state $|\\psi\\rangle$ on superposition. \n",
    "$$\n",
    "\\begin{align*}\n",
    "|s\\rangle = H^{\\otimes n}|\\psi\\rangle = \\frac{1}{\\sqrt{2^n}}\\sum_{x \\in \\{0, 1\\}^n}|x\\rangle\n",
    "\\end{align*}\n",
    "$$\n",
    "\n",
    "**Step 2.** After that we apply the $U_f = I - 2|w\\rangle\\langle w|$ gate that will work as phase operator given by $f(x)$, that geometrically can be seen as reflection at $|w\\rangle$ of size $\\frac{\\theta}{2}$, given by the inner product $\\langle w|s\\rangle$."
   ]
  },
  {
   "cell_type": "markdown",
   "metadata": {},
   "source": [
    "<img src=\"images/grover_step1.png\" style=\"width:500px; height:380px\"/>"
   ]
  },
  {
   "cell_type": "markdown",
   "metadata": {},
   "source": [
    "**Step 3.** Now to diffuse our amplitudes we apply $D = |s\\rangle\\langle s| - I$ into our state $U_f|s\\rangle$, which geometrically as we have seen above is a reflection at $|s\\rangle$, given by the inner product between $\\langle s|U_fs\\rangle$. That will rotate our vector $|s\\rangle$ towards our winner vector $|w\\rangle$ by a angle $\\theta$. "
   ]
  },
  {
   "cell_type": "markdown",
   "metadata": {},
   "source": [
    "<img src=\"images/grover_step2.png\" style=\"width:500px; height:380px\"/>"
   ]
  },
  {
   "cell_type": "markdown",
   "metadata": {},
   "source": [
    "From these steps, after applications of **Step 2** and **Step 3**, $|s\\rangle$ is rotated towards $|w\\rangle$ $r\\theta$, for $r \\in \\mathbb{Z}$. So we must choose $r$, so that,\n",
    "\n",
    "$$r\\theta + \\frac{\\theta}{2} \\simeq \\frac{\\pi}{2}$$\n",
    "\n",
    "Therefore, from our previous definition we have that\n",
    "\n",
    "$$\n",
    "    \\begin{align*}\n",
    "        r &= \\frac{\\pi}{2\\theta} - \\frac{1}{2}\\\\\n",
    "          &= \\frac{\\pi}{4\\arcsin \\frac{1}{\\sqrt{2^n}}}- \\frac{1}{2}\\\\\n",
    "          &\\simeq \\frac{\\pi}{4}\\sqrt{2^n}\\\\\n",
    "          &= \\mathcal{O}(\\sqrt{N})\n",
    "    \\end{align*}\n",
    "$$\n",
    "\n",
    "Hence, after $r$ calls, the probability of measuring $w$ at $z$ wil be\n",
    "\n",
    "$$\n",
    "    \\begin{align*}\n",
    "        P(w) &\\geq 1 - \\sin^2\\frac{\\theta}{2}\\\\\n",
    "             &=     1 - \\frac{1}{2^n}\n",
    "    \\end{align*}\n",
    "$$\n",
    "\n",
    "Which show us that after $r = \\mathcal{O}(\\sqrt{N})$ we will have the right outcome with high probability, as we were willing demonstrate. "
   ]
  },
  {
   "cell_type": "markdown",
   "metadata": {},
   "source": [
    "## Implementation"
   ]
  },
  {
   "cell_type": "markdown",
   "metadata": {},
   "source": [
    "Finally, now we are able to implement the Grover's algorithm protocol using IBM qiskit"
   ]
  },
  {
   "cell_type": "code",
   "execution_count": 2,
   "metadata": {},
   "outputs": [],
   "source": [
    "#define the Uf operator I - 2|w><w|\n",
    "def Uf(n, marked_elements):\n",
    "    #create an ancilla circuit named Uf\n",
    "    anc_circ = QuantumCircuit(n, name = 'Uf')\n",
    "    U = np.eye(2**n)\n",
    "    \n",
    "    for i in marked_elements:\n",
    "        U[i][i] = -1\n",
    "        \n",
    "    anc_circ.unitary(Operator(U), range(n))\n",
    "    \n",
    "    return anc_circ"
   ]
  },
  {
   "cell_type": "code",
   "execution_count": 3,
   "metadata": {},
   "outputs": [],
   "source": [
    "#define the D operator 2|s><s| - I\n",
    "def Diffuser(n):\n",
    "    #create an ancilla circuit named Diffused\n",
    "    anc_circ = QuantumCircuit(n, name = 'Diffuser')\n",
    "    \n",
    "    anc_circ.h(range(n))\n",
    "    anc_circ.append(Uf(n, [0]), range(n))\n",
    "    anc_circ.h(range(n))\n",
    "    \n",
    "    return anc_circ"
   ]
  },
  {
   "cell_type": "code",
   "execution_count": 4,
   "metadata": {},
   "outputs": [
    {
     "data": {
      "image/png": "[encoded data removed]",
      "text/plain": [
       "<Figure size 1152.23x264.88 with 1 Axes>"
      ]
     },
     "execution_count": 4,
     "metadata": {},
     "output_type": "execute_result"
    }
   ],
   "source": [
    "#input size\n",
    "n = 3\n",
    "\n",
    "#marked elements\n",
    "w = [6]\n",
    "\n",
    "#initialize qubits and measurement bits\n",
    "input_qubits = QuantumRegister(n)\n",
    "output_bits = ClassicalRegister(n)\n",
    "\n",
    "#create circuit\n",
    "my_circuit = QuantumCircuit(input_qubits, output_bits)\n",
    "\n",
    "#apply Hadamard on all qubits\n",
    "my_circuit.h(range(n))\n",
    "\n",
    "r = int(np.floor(np.pi/4*np.sqrt(2**n)))\n",
    "\n",
    "my_circuit.barrier()\n",
    "\n",
    "for i in range(r):\n",
    "    my_circuit.append(Uf(n, w), range(n))\n",
    "    my_circuit.append(Diffuser(n), range(n))\n",
    "\n",
    "my_circuit.barrier()\n",
    "\n",
    "my_circuit.measure(range(n), range(n))\n",
    "\n",
    "#Backend classical simulation\n",
    "backend = BasicAer.get_backend('qasm_simulator')\n",
    "atp = 1024\n",
    "res = execute(my_circuit, backend=backend, shots=atp).result()\n",
    "ans = res.get_counts()\n",
    "my_circuit.draw(output='mpl')"
   ]
  },
  {
   "cell_type": "code",
   "execution_count": 5,
   "metadata": {},
   "outputs": [
    {
     "data": {
      "image/png": "[encoded data removed]",
      "text/plain": [
       "<Figure size 504x360 with 1 Axes>"
      ]
     },
     "execution_count": 5,
     "metadata": {},
     "output_type": "execute_result"
    }
   ],
   "source": [
    "plot_histogram(ans)"
   ]
  },
  {
   "cell_type": "markdown",
   "metadata": {},
   "source": [
    "## References"
   ]
  },
  {
   "cell_type": "markdown",
   "metadata": {},
   "source": [
    "__[Wikipedia Grover Algorithm](https://en.wikipedia.org/wiki/Grover%27s_algorithm)__\\\n",
    "__[Learn Quantum Computation using Qiskit](https://community.qiskit.org/textbook/)__\\\n",
    "__[Grovers Algorithm IBM Qiskit](https://qiskit.org/textbook/ch-algorithms/grover.html)__\\\n",
    "__[Image 1](https://www.tweeddailynews.com.au/news/did-grover-drop-the-fbomb-on-sesame-street/3611248/)__"
   ]
  }
 ],
 "metadata": {
  "kernelspec": {
   "display_name": "Python 3",
   "language": "python",
   "name": "python3"
  },
  "language_info": {
   "codemirror_mode": {
    "name": "ipython",
    "version": 3
   },
   "file_extension": ".py",
   "mimetype": "text/x-python",
   "name": "python",
   "nbconvert_exporter": "python",
   "pygments_lexer": "ipython3",
   "version": "3.6.9"
  }
 },
 "nbformat": 4,
 "nbformat_minor": 2
}
