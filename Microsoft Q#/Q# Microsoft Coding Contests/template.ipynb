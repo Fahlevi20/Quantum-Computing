{
 "cells": [
  {
   "cell_type": "code",
   "execution_count": 4,
   "metadata": {},
   "outputs": [
    {
     "name": "stdout",
     "output_type": "stream",
     "text": [
      "/snippet_.qs(1,90): warning QS6003: The namespace is already open.\n",
      "/snippet_.qs(2,6): warning QS6003: The namespace is already open.\n",
      "/snippet_.qs(13,9): warning QS3003: Deprecated syntax. An argument tuple is expected where \"...\" indicates the position of the declaration arguments, e.g. \"(...)\" for body and adjoint, \"(cs, ...)\" for controlled and controlled adjoint.\n",
      "/snippet_.qs(54,9): warning QS3003: Deprecated syntax. An argument tuple is expected where \"...\" indicates the position of the declaration arguments, e.g. \"(...)\" for body and adjoint, \"(cs, ...)\" for controlled and controlled adjoint.\n",
      "/snippet_.qs(21,9): warning QS3003: Deprecated syntax. An argument tuple is expected where \"...\" indicates the position of the declaration arguments, e.g. \"(...)\" for body and adjoint, \"(cs, ...)\" for controlled and controlled adjoint.\n",
      "/snippet_.qs(43,9): warning QS3003: Deprecated syntax. An argument tuple is expected where \"...\" indicates the position of the declaration arguments, e.g. \"(...)\" for body and adjoint, \"(cs, ...)\" for controlled and controlled adjoint.\n"
     ]
    },
    {
     "data": {
      "application/json": "[\"andOracle\",\"arrToQbit\",\"buildBell\",\"buildGHZ\",\"buildW\",\"distinguishBell\",\"isAllZeros\",\"orOracle\",\"reverseState\",\"stateCopy\",\"SuperdenseCodingProtocol\",\"Teleport\",\"xorOracle2\"]",
      "text/html": [
       "<ul><li>andOracle</li><li>arrToQbit</li><li>buildBell</li><li>buildGHZ</li><li>buildW</li><li>distinguishBell</li><li>isAllZeros</li><li>orOracle</li><li>reverseState</li><li>stateCopy</li><li>SuperdenseCodingProtocol</li><li>Teleport</li><li>xorOracle2</li></ul>"
      ],
      "text/plain": [
       "andOracle, arrToQbit, buildBell, buildGHZ, buildW, distinguishBell, isAllZeros, orOracle, reverseState, stateCopy, SuperdenseCodingProtocol, Teleport, xorOracle2"
      ]
     },
     "execution_count": 4,
     "metadata": {},
     "output_type": "execute_result"
    }
   ],
   "source": [
    "open Microsoft.Quantum.Intrinsic;\n",
    "open Microsoft.Quantum.Canon;\n",
    "open Microsoft.Quantum.Math;\n",
    "open Microsoft.Quantum.Diagnostics;\n",
    "open Microsoft.Quantum.Measurement;\n",
    "open Microsoft.Quantum.Convert;\n",
    "open Microsoft.Quantum.Preparation;\n",
    "open Microsoft.Quantum.Arithmetic;\n",
    "\n",
    "\n",
    "//If all entries of x are One, the Oracle returns |y> = |1>\n",
    "operation andOracle (x : Qubit[], y : Qubit) : Unit {\n",
    "    body {\n",
    "        (Controlled X)(x, y);\n",
    "    }\n",
    "    adjoint auto;\n",
    "}\n",
    "\n",
    "//If all entries of x are Zero, the Oracle returns |y> = |0>\n",
    "operation orOracle (x : Qubit[], y : Qubit) : Unit {\n",
    "    body {\n",
    "        ApplyToEachA(X, x);\n",
    "        Controlled X (x, y);\n",
    "        X(y);\n",
    "        ApplyToEachA(X, x);\n",
    "    }\n",
    "    adjoint auto;\n",
    "}\n",
    "\n",
    "//Given two qubits, XOR gate if 01 or 10 |y> = |1>\n",
    "operation xorOracle2 (x : Qubit[], y : Qubit) : Unit {\n",
    "    X(y);\n",
    "    Controlled X(x, y);\n",
    "    X(x[0]);\n",
    "    X(x[1]);\n",
    "    Controlled X(x, y);\n",
    "    X(x[0]);\n",
    "    X(x[1]);\n",
    "}\n",
    "\n",
    "//Puts a state |000...0> into the GHZ state |000..0> + |111..1>/sqrt2\n",
    "operation buildGHZ (qs : Qubit[]) : Unit{\n",
    "    body {\n",
    "        H(qs[0]);\n",
    "        for (i in 1..Length(qs)-1){\n",
    "            CNOT(qs[0], qs[i]);\n",
    "        }\n",
    "    }\n",
    "    adjoint auto;\n",
    "}\n",
    "\n",
    "//Puts a state |000...0> into the GHZ state |100..0> + |010..0> + ... |000..1>/sqrtN\n",
    "operation buildW (qs : Qubit[]) : Unit is Adj + Ctl {\n",
    "    body {\n",
    "        let N = Length(qs);\n",
    "        Ry(2.0*ArcSin(Sqrt(1.0/(IntAsDouble(N)))), qs[0]);\n",
    "        if (N > 1){\n",
    "            ((ControlledOnInt)(0, buildW))([qs[0]], qs[1...]);\n",
    "        }\n",
    "    }\n",
    "    adjoint auto;\n",
    "}\n",
    "\n",
    "operation isAllZeros (qs : Qubit[]) : Int {\n",
    "    return MeasureInteger(LittleEndian(qs)) == 0 ? 0 | 1;\n",
    "}\n",
    "\n",
    "//Generate Bell State 0 : |00>, 1 : |01>, 2 : |10>, 3 |11>\n",
    "operation buildBell (qs : Qubit[], index : Int) : Unit {\n",
    "    H(qs[0]);\n",
    "    CNOT(qs[0], qs[1]);\n",
    "        \n",
    "    if (index%2 == 1){\n",
    "        Z(qs[1]);\n",
    "    }\n",
    "    if (index/2 == 1){\n",
    "        X(qs[0]);\n",
    "    }\n",
    "}\n",
    "\n",
    "//Distinguish Bell State 0 : |00>, 1 : |01>, 2 : |10>, 3 : |11>\n",
    "operation distinguishBell (qs : Qubit[]) : Int {\n",
    "    CNOT(qs[0], qs[1]);\n",
    "    H(qs[0]);\n",
    "    \n",
    "    let m1 = M(qs[0]) == One ? 1 | 0;\n",
    "    let m2 = M(qs[1]) == One ? 1 | 0;\n",
    "    \n",
    "    return 2*m2 + m1;\n",
    "}\n",
    "\n",
    "//Reverse the Qubit string\n",
    "operation reverseState (qs : Qubit[]) : Unit {\n",
    "    let N = Length(qs);\n",
    "    for (i in 0..(N/2)-1){\n",
    "        SWAP(qs[i], qs[N-i-1]);\n",
    "    }\n",
    "}\n",
    "\n",
    "//Create a copy of a the given state\n",
    "operation stateCopy (qs : Qubit[], copy : Qubit[]) : Unit {\n",
    "    for (i in 0..Length(qs)-1){\n",
    "        CNOT(qs[i], copy[i]);\n",
    "    }\n",
    "}\n",
    "\n",
    "//takes a integer array of 0/1s and creates an equivalent qubit string \n",
    "operation arrToQbit (bits : Int[], qs : Qubit[]) : Unit {\n",
    "    for (i in 0..Length(qs)-1){\n",
    "        if (bits[i] == 1){\n",
    "            X(qs[i]);\n",
    "        }\n",
    "    }\n",
    "}\n",
    "\n",
    "//Teleport 2 qubits + message\n",
    "operation Teleport (qAlice : Qubit, qBob : Qubit, qMessage : Qubit) : Unit {\n",
    "    H(qAlice);\n",
    "    CNOT(qAlice, qBob);\n",
    "    CNOT(qMessage, qAlice);\n",
    "    H(qMessage);\n",
    "    \n",
    "    (Controlled Z)([qMessage], qBob);\n",
    "    (Controlled X)([qAlice], qBob);\n",
    "}\n",
    "\n",
    "//Superdensecoding protocol\n",
    "operation SuperdenseCodingProtocol (b1 : Bool, b2 : Bool) : (Bool, Bool) {\n",
    "    using ((qAlice, qBob) = (Qubit(), Qubit())){\n",
    "        H(qAlice);\n",
    "        CNOT(qAlice, qBob);\n",
    "        \n",
    "        //MCMAHON BOOK P236\n",
    "        if (b1){\n",
    "            Z(qAlice);\n",
    "        }\n",
    "        if (b2){\n",
    "            X(qAlice);\n",
    "        }\n",
    "        \n",
    "        CNOT(qAlice, qBob);\n",
    "        H(qAlice);\n",
    "        \n",
    "        //Measure the qubit at Z basis, and reset it\n",
    "        return ((MResetZ(qAlice) == One, MResetZ(qBob) == One));\n",
    "    }\n",
    "}"
   ]
  },
  {
   "cell_type": "code",
   "execution_count": 38,
   "metadata": {},
   "outputs": [
    {
     "name": "stdout",
     "output_type": "stream",
     "text": [
      "/snippet_.qs(2,8): warning QS6003: The namespace is already open.\n",
      "/snippet_.qs(3,8): warning QS6003: The namespace is already open.\n"
     ]
    },
    {
     "data": {
      "application/json": "[\"Solve\",\"test\"]",
      "text/html": [
       "<ul><li>Solve</li><li>test</li></ul>"
      ],
      "text/plain": [
       "Solve, test"
      ]
     },
     "execution_count": 38,
     "metadata": {},
     "output_type": "execute_result"
    }
   ],
   "source": [
    "//////////////A1\n",
    "open Microsoft.Quantum.Intrinsic;\n",
    "open Microsoft.Quantum.Canon;\n",
    "open Microsoft.Quantum.Math;\n",
    "open Microsoft.Quantum.Diagnostics;\n",
    "open Microsoft.Quantum.Measurement;\n",
    "open Microsoft.Quantum.Convert;\n",
    "open Microsoft.Quantum.Preparation;\n",
    "\n",
    "operation Solve(unitary : (Qubit => Unit is Adj+Ctl)) : Int {\n",
    "    mutable ans = 0;\n",
    "    using (q  = Qubit()){\n",
    "      unitary(q);\n",
    "      set ans = M(q)==One ? 1 | 0;\n",
    "      Reset(q);\n",
    "    }\n",
    "    return ans;\n",
    "}\n",
    "\n",
    "operation test() : Unit {\n",
    "    let n = 0;\n",
    "    using(qs = Qubit[n]){\n",
    "\n",
    "      Message(\"Tested\");\n",
    "      ResetAll(qs);\n",
    "    }\n",
    "}\n"
   ]
  },
  {
   "cell_type": "code",
   "execution_count": 195,
   "metadata": {},
   "outputs": [
    {
     "name": "stdout",
     "output_type": "stream",
     "text": [
      "/snippet_.qs(2,6): warning QS6003: The namespace is already open.\n",
      "/snippet_.qs(3,6): warning QS6003: The namespace is already open.\n"
     ]
    },
    {
     "data": {
      "application/json": "[\"Solve\"]",
      "text/html": [
       "<ul><li>Solve</li></ul>"
      ],
      "text/plain": [
       "Solve"
      ]
     },
     "execution_count": 195,
     "metadata": {},
     "output_type": "execute_result"
    }
   ],
   "source": [
    "//////////////A2\n",
    "open Microsoft.Quantum.Intrinsic;\n",
    "open Microsoft.Quantum.Canon;\n",
    "open Microsoft.Quantum.Math;\n",
    "open Microsoft.Quantum.Diagnostics;\n",
    "open Microsoft.Quantum.Measurement;\n",
    "open Microsoft.Quantum.Convert;\n",
    "open Microsoft.Quantum.Preparation;\n",
    "\n",
    "operation Solve() : Int {\n",
    "    mutable ans = 0;\n",
    "    using (q = Qubit()){\n",
    "      H(q);\n",
    "      X(q);\n",
    "      Y(q);\n",
    "      Y(q);\n",
    "      //OPERATION\n",
    "      X(q);\n",
    "      Z(q);\n",
    "      X(q);\n",
    "      //OPERATION\n",
    "      Y(q);\n",
    "      Y(q);\n",
    "      X(q);\n",
    "      H(q);\n",
    "      DumpMachine();\n",
    "      Reset(q);\n",
    "    }\n",
    "    return ans;\n",
    "}\n"
   ]
  },
  {
   "cell_type": "code",
   "execution_count": 196,
   "metadata": {},
   "outputs": [
    {
     "data": {
      "application/json": "{\"QubitIds\":[0],\"NQubits\":1,\"Amplitudes\":[{\"Real\":0.0,\"Imaginary\":0.0,\"Magnitude\":0.0,\"Phase\":0.0},{\"Real\":1.0000000000000002,\"Imaginary\":0.0,\"Magnitude\":1.0000000000000002,\"Phase\":0.0}]}",
      "text/html": [
       "\r\n",
       "                    <table style=\"table-layout: fixed; width: 100%\">\r\n",
       "                        <thead>\r\n",
       "                            \r\n",
       "                        <tr>\r\n",
       "                            <th>Qubit IDs</th>\r\n",
       "                            <td span=\"3\">0</td>\r\n",
       "                        </tr>\r\n",
       "                    \r\n",
       "                            <tr>\r\n",
       "                                <th style=\"width: 20ch)\">Basis state (little endian)</th>\r\n",
       "                                <th style=\"width: 20ch\">Amplitude</th>\r\n",
       "                                <th style=\"width: calc(100% - 26ch - 20ch)\">Meas. Pr.</th>\r\n",
       "                                <th style=\"width: 6ch\">Phase</th>\r\n",
       "                            </tr>\r\n",
       "                        </thead>\r\n",
       "\r\n",
       "                        <tbody>\r\n",
       "                            \r\n",
       "                            <tr>\r\n",
       "                                <td>$\\left|0\\right\\rangle$</td>\r\n",
       "                                <td>$0.0000 + 0.0000 i$</td>\r\n",
       "                                <td>\r\n",
       "                                    <progress\r\n",
       "                                        max=\"100\"\r\n",
       "                                        value=\"0\"\r\n",
       "                                        style=\"width: 100%;\"\r\n",
       "                                    >\r\n",
       "                                </td>\r\n",
       "                                <td style=\"transform: rotate(0deg);\r\n",
       "                   text-align: center;\">\r\n",
       "                                    ↑\r\n",
       "                                </td>\r\n",
       "                            </tr>\r\n",
       "                        \n",
       "\r\n",
       "                            <tr>\r\n",
       "                                <td>$\\left|1\\right\\rangle$</td>\r\n",
       "                                <td>$1.0000 + 0.0000 i$</td>\r\n",
       "                                <td>\r\n",
       "                                    <progress\r\n",
       "                                        max=\"100\"\r\n",
       "                                        value=\"100.00000000000004\"\r\n",
       "                                        style=\"width: 100%;\"\r\n",
       "                                    >\r\n",
       "                                </td>\r\n",
       "                                <td style=\"transform: rotate(0deg);\r\n",
       "                   text-align: center;\">\r\n",
       "                                    ↑\r\n",
       "                                </td>\r\n",
       "                            </tr>\r\n",
       "                        \r\n",
       "                        </tbody>\r\n",
       "                    </table>\r\n",
       "                "
      ],
      "text/plain": [
       "|0⟩\t0 + 0𝑖\n",
       "|1⟩\t1.0000000000000002 + 0𝑖"
      ]
     },
     "metadata": {},
     "output_type": "display_data"
    },
    {
     "data": {
      "application/json": "0",
      "text/plain": [
       "0"
      ]
     },
     "execution_count": 196,
     "metadata": {},
     "output_type": "execute_result"
    }
   ],
   "source": [
    "%simulate Solve"
   ]
  },
  {
   "cell_type": "code",
   "execution_count": 56,
   "metadata": {},
   "outputs": [
    {
     "name": "stderr",
     "output_type": "stream",
     "text": [
      "/snippet_.qs(1,113): error QS1002: An opening bracket has not been closed.\n"
     ]
    }
   ],
   "source": [
    "////////////////////////B1"
   ]
  },
  {
   "cell_type": "code",
   "execution_count": null,
   "metadata": {},
   "outputs": [],
   "source": [
    "////////////////////////B2"
   ]
  },
  {
   "cell_type": "code",
   "execution_count": 70,
   "metadata": {},
   "outputs": [
    {
     "name": "stdout",
     "output_type": "stream",
     "text": [
      "/snippet_.qs(2,6): warning QS6003: The namespace is already open.\n",
      "/snippet_.qs(3,6): warning QS6003: The namespace is already open.\n"
     ]
    },
    {
     "data": {
      "application/json": "[\"Solve\",\"testC\"]",
      "text/html": [
       "<ul><li>Solve</li><li>testC</li></ul>"
      ],
      "text/plain": [
       "Solve, testC"
      ]
     },
     "execution_count": 70,
     "metadata": {},
     "output_type": "execute_result"
    }
   ],
   "source": [
    "////////////////////////C1\n",
    "open Microsoft.Quantum.Intrinsic;\n",
    "open Microsoft.Quantum.Canon;\n",
    "open Microsoft.Quantum.Math;\n",
    "open Microsoft.Quantum.Diagnostics;\n",
    "open Microsoft.Quantum.Measurement;\n",
    "open Microsoft.Quantum.Convert;\n",
    "open Microsoft.Quantum.Preparation;\n",
    "open Microsoft.Quantum.Arithmetic;\n",
    "\n",
    "operation Solve (qs : Qubit[]) : Unit {\n",
    "    PrepareUniformSuperposition(3, LittleEndian(qs));\n",
    "    ApplyToEachA(Y, qs);\n",
    "    ApplyToEachA(Z, qs);\n",
    "    //ApplyToEachA(X, qs);\n",
    "}\n",
    "\n",
    "operation testC() : Unit {\n",
    "    let n = 2;\n",
    "    using(qs = Qubit[n]){\n",
    "      Solve(qs);\n",
    "      DumpMachine();\n",
    "      Message(\"Tested\");\n",
    "      ResetAll(qs);\n",
    "    }\n",
    "}"
   ]
  },
  {
   "cell_type": "code",
   "execution_count": 65,
   "metadata": {},
   "outputs": [
    {
     "name": "stderr",
     "output_type": "stream",
     "text": [
      "/snippet_.qs(26,7): error QS5011: Expecting expression of type Unit. Only expressions of type Unit can be used as expression statements.\n",
      "/snippet_.qs(28,15): error QS6210: The type of the given argument does not match the expected type. Got an argument of type Qubit, expecting one of type Qubit[] instead.\n"
     ]
    }
   ],
   "source": [
    "//////////////A3\n",
    "open Microsoft.Quantum.Intrinsic;\n",
    "open Microsoft.Quantum.Canon;\n",
    "open Microsoft.Quantum.Math;\n",
    "open Microsoft.Quantum.Diagnostics;\n",
    "open Microsoft.Quantum.Measurement;\n",
    "open Microsoft.Quantum.Convert;\n",
    "open Microsoft.Quantum.Preparation;\n",
    "\n",
    "operation Solve(unitary : (Qubit[] => Unit is Adj+Ctl)) : Int {\n",
    "    mutable ans = 0;\n",
    "    using (q  = Qubit()){\n",
    "      H(q);\n",
    "      unitary(q);\n",
    "      unitary(q);\n",
    "      H(q);\n",
    "      set ans = M(q) == One ? 1 | 0;\n",
    "      Reset(q);\n",
    "    }\n",
    "    return ans;\n",
    "}\n",
    "\n",
    "operation test() : Unit {\n",
    "    let n = 1;\n",
    "    using(qs = Qubit()){\n",
    "      Solve(Z);\n",
    "      Message(\"Tested\");\n",
    "      ResetAll(qs);\n",
    "    }\n",
    "}"
   ]
  },
  {
   "cell_type": "code",
   "execution_count": 66,
   "metadata": {},
   "outputs": [
    {
     "name": "stdout",
     "output_type": "stream",
     "text": [
      "/snippet_.qs(1,90): warning QS6003: The namespace is already open.\n",
      "/snippet_.qs(2,6): warning QS6003: The namespace is already open.\n"
     ]
    },
    {
     "data": {
      "application/json": "[\"Solve\"]",
      "text/html": [
       "<ul><li>Solve</li></ul>"
      ],
      "text/plain": [
       "Solve"
      ]
     },
     "execution_count": 66,
     "metadata": {},
     "output_type": "execute_result"
    }
   ],
   "source": [
    "open Microsoft.Quantum.Intrinsic;\n",
    "open Microsoft.Quantum.Canon;\n",
    "open Microsoft.Quantum.Math;\n",
    "open Microsoft.Quantum.Diagnostics;\n",
    "open Microsoft.Quantum.Measurement;\n",
    "open Microsoft.Quantum.Convert;\n",
    "open Microsoft.Quantum.Preparation;\n",
    "\n",
    "operation Solve(unitary : (Qubit[] => Unit is Adj+Ctl)) : Int {\n",
    "    mutable ans = 1;\n",
    "    using (q  = Qubit[2]){\n",
    "        unitary(q);\n",
    "        if (M(q[1]) == One){\n",
    "            set ans = 0;\n",
    "        }\n",
    "        ResetAll(q);\n",
    "        }\n",
    "    return ans;\n",
    "}"
   ]
  },
  {
   "cell_type": "code",
   "execution_count": 71,
   "metadata": {},
   "outputs": [
    {
     "data": {
      "application/json": "{\"QubitIds\":[0,1],\"NQubits\":2,\"Amplitudes\":[{\"Real\":0.0,\"Imaginary\":0.0,\"Magnitude\":0.0,\"Phase\":0.0},{\"Real\":0.5773502691896263,\"Imaginary\":-3.5352507957496944E-17,\"Magnitude\":0.5773502691896263,\"Phase\":-6.123233995736769E-17},{\"Real\":0.5773502691896263,\"Imaginary\":-3.5352507957496944E-17,\"Magnitude\":0.5773502691896263,\"Phase\":-6.123233995736769E-17},{\"Real\":0.5773502691896263,\"Imaginary\":-3.535250795749694E-17,\"Magnitude\":0.5773502691896263,\"Phase\":-6.123233995736767E-17}]}",
      "text/html": [
       "\r\n",
       "                    <table style=\"table-layout: fixed; width: 100%\">\r\n",
       "                        <thead>\r\n",
       "                            \r\n",
       "                        <tr>\r\n",
       "                            <th>Qubit IDs</th>\r\n",
       "                            <td span=\"3\">0, 1</td>\r\n",
       "                        </tr>\r\n",
       "                    \r\n",
       "                            <tr>\r\n",
       "                                <th style=\"width: 20ch)\">Basis state (little endian)</th>\r\n",
       "                                <th style=\"width: 20ch\">Amplitude</th>\r\n",
       "                                <th style=\"width: calc(100% - 26ch - 20ch)\">Meas. Pr.</th>\r\n",
       "                                <th style=\"width: 6ch\">Phase</th>\r\n",
       "                            </tr>\r\n",
       "                        </thead>\r\n",
       "\r\n",
       "                        <tbody>\r\n",
       "                            \r\n",
       "                            <tr>\r\n",
       "                                <td>$\\left|0\\right\\rangle$</td>\r\n",
       "                                <td>$0.0000 + 0.0000 i$</td>\r\n",
       "                                <td>\r\n",
       "                                    <progress\r\n",
       "                                        max=\"100\"\r\n",
       "                                        value=\"0\"\r\n",
       "                                        style=\"width: 100%;\"\r\n",
       "                                    >\r\n",
       "                                </td>\r\n",
       "                                <td style=\"transform: rotate(0deg);\r\n",
       "                   text-align: center;\">\r\n",
       "                                    ↑\r\n",
       "                                </td>\r\n",
       "                            </tr>\r\n",
       "                        \n",
       "\r\n",
       "                            <tr>\r\n",
       "                                <td>$\\left|1\\right\\rangle$</td>\r\n",
       "                                <td>$0.5774  -0.0000 i$</td>\r\n",
       "                                <td>\r\n",
       "                                    <progress\r\n",
       "                                        max=\"100\"\r\n",
       "                                        value=\"33.33333333333339\"\r\n",
       "                                        style=\"width: 100%;\"\r\n",
       "                                    >\r\n",
       "                                </td>\r\n",
       "                                <td style=\"transform: rotate(-3.5083546492674396E-15deg);\r\n",
       "                   text-align: center;\">\r\n",
       "                                    ↑\r\n",
       "                                </td>\r\n",
       "                            </tr>\r\n",
       "                        \n",
       "\r\n",
       "                            <tr>\r\n",
       "                                <td>$\\left|2\\right\\rangle$</td>\r\n",
       "                                <td>$0.5774  -0.0000 i$</td>\r\n",
       "                                <td>\r\n",
       "                                    <progress\r\n",
       "                                        max=\"100\"\r\n",
       "                                        value=\"33.33333333333339\"\r\n",
       "                                        style=\"width: 100%;\"\r\n",
       "                                    >\r\n",
       "                                </td>\r\n",
       "                                <td style=\"transform: rotate(-3.5083546492674396E-15deg);\r\n",
       "                   text-align: center;\">\r\n",
       "                                    ↑\r\n",
       "                                </td>\r\n",
       "                            </tr>\r\n",
       "                        \n",
       "\r\n",
       "                            <tr>\r\n",
       "                                <td>$\\left|3\\right\\rangle$</td>\r\n",
       "                                <td>$0.5774  -0.0000 i$</td>\r\n",
       "                                <td>\r\n",
       "                                    <progress\r\n",
       "                                        max=\"100\"\r\n",
       "                                        value=\"33.33333333333339\"\r\n",
       "                                        style=\"width: 100%;\"\r\n",
       "                                    >\r\n",
       "                                </td>\r\n",
       "                                <td style=\"transform: rotate(-3.5083546492674388E-15deg);\r\n",
       "                   text-align: center;\">\r\n",
       "                                    ↑\r\n",
       "                                </td>\r\n",
       "                            </tr>\r\n",
       "                        \r\n",
       "                        </tbody>\r\n",
       "                    </table>\r\n",
       "                "
      ],
      "text/plain": [
       "|0⟩\t0 + 0𝑖\n",
       "|1⟩\t0.5773502691896263 + -3.5352507957496944E-17𝑖\n",
       "|2⟩\t0.5773502691896263 + -3.5352507957496944E-17𝑖\n",
       "|3⟩\t0.5773502691896263 + -3.535250795749694E-17𝑖"
      ]
     },
     "metadata": {},
     "output_type": "display_data"
    },
    {
     "name": "stdout",
     "output_type": "stream",
     "text": [
      "Tested\n"
     ]
    },
    {
     "data": {
      "application/json": "{\"@type\":\"tuple\"}",
      "text/plain": [
       "()"
      ]
     },
     "execution_count": 71,
     "metadata": {},
     "output_type": "execute_result"
    }
   ],
   "source": [
    "%simulate testC"
   ]
  },
  {
   "cell_type": "code",
   "execution_count": 357,
   "metadata": {},
   "outputs": [
    {
     "name": "stdout",
     "output_type": "stream",
     "text": [
      "/snippet_.qs(1,90): warning QS6003: The namespace is already open.\n",
      "/snippet_.qs(2,6): warning QS6003: The namespace is already open.\n"
     ]
    },
    {
     "data": {
      "application/json": "[\"buildBell\",\"main\",\"Solve\"]",
      "text/html": [
       "<ul><li>buildBell</li><li>main</li><li>Solve</li></ul>"
      ],
      "text/plain": [
       "buildBell, main, Solve"
      ]
     },
     "execution_count": 357,
     "metadata": {},
     "output_type": "execute_result"
    }
   ],
   "source": [
    "open Microsoft.Quantum.Intrinsic;\n",
    "open Microsoft.Quantum.Canon;\n",
    "open Microsoft.Quantum.Math;\n",
    "open Microsoft.Quantum.Diagnostics;\n",
    "open Microsoft.Quantum.Measurement;\n",
    "open Microsoft.Quantum.Convert;\n",
    "open Microsoft.Quantum.Preparation;\n",
    "open Microsoft.Quantum.Arithmetic;\n",
    "\n",
    "operation buildBell (qs : Qubit[], index : Int) : Unit {\n",
    "    H(qs[0]);\n",
    "    CNOT(qs[0], qs[1]);\n",
    "        \n",
    "    if (index%2 == 1){\n",
    "        Z(qs[1]);\n",
    "    }\n",
    "    if (index/2 == 1){\n",
    "        X(qs[0]);\n",
    "    }\n",
    "}\n",
    "\n",
    "operation Solve (qs : Qubit[]) : Unit {\n",
    "    using (q = Qubit()){\n",
    "        H(q);\n",
    "        buildBell(qs, 1);\n",
    "        let m = M(qs[1]);\n",
    "        DumpMachine();\n",
    "        Reset(q);\n",
    "    }\n",
    "    //let m = M(qs[0]);\n",
    "}\n",
    "\n",
    "operation main () : Unit {\n",
    "    using (qs = Qubit[2]){\n",
    "        Solve(qs);\n",
    "        //DumpMachine();\n",
    "        ResetAll(qs);\n",
    "    }\n",
    "}"
   ]
  },
  {
   "cell_type": "code",
   "execution_count": 358,
   "metadata": {},
   "outputs": [
    {
     "data": {
      "application/json": "{\"QubitIds\":[0,1,2],\"NQubits\":3,\"Amplitudes\":[{\"Real\":0.7071067811865475,\"Imaginary\":0.0,\"Magnitude\":0.7071067811865475,\"Phase\":0.0},{\"Real\":0.0,\"Imaginary\":0.0,\"Magnitude\":0.0,\"Phase\":0.0},{\"Real\":0.0,\"Imaginary\":0.0,\"Magnitude\":0.0,\"Phase\":0.0},{\"Real\":0.0,\"Imaginary\":0.0,\"Magnitude\":0.0,\"Phase\":0.0},{\"Real\":0.7071067811865475,\"Imaginary\":0.0,\"Magnitude\":0.7071067811865475,\"Phase\":0.0},{\"Real\":0.0,\"Imaginary\":0.0,\"Magnitude\":0.0,\"Phase\":0.0},{\"Real\":0.0,\"Imaginary\":0.0,\"Magnitude\":0.0,\"Phase\":0.0},{\"Real\":0.0,\"Imaginary\":0.0,\"Magnitude\":0.0,\"Phase\":0.0}]}",
      "text/html": [
       "\r\n",
       "                    <table style=\"table-layout: fixed; width: 100%\">\r\n",
       "                        <thead>\r\n",
       "                            \r\n",
       "                        <tr>\r\n",
       "                            <th>Qubit IDs</th>\r\n",
       "                            <td span=\"3\">0, 1, 2</td>\r\n",
       "                        </tr>\r\n",
       "                    \r\n",
       "                            <tr>\r\n",
       "                                <th style=\"width: 20ch)\">Basis state (little endian)</th>\r\n",
       "                                <th style=\"width: 20ch\">Amplitude</th>\r\n",
       "                                <th style=\"width: calc(100% - 26ch - 20ch)\">Meas. Pr.</th>\r\n",
       "                                <th style=\"width: 6ch\">Phase</th>\r\n",
       "                            </tr>\r\n",
       "                        </thead>\r\n",
       "\r\n",
       "                        <tbody>\r\n",
       "                            \r\n",
       "                            <tr>\r\n",
       "                                <td>$\\left|0\\right\\rangle$</td>\r\n",
       "                                <td>$0.7071 + 0.0000 i$</td>\r\n",
       "                                <td>\r\n",
       "                                    <progress\r\n",
       "                                        max=\"100\"\r\n",
       "                                        value=\"49.999999999999986\"\r\n",
       "                                        style=\"width: 100%;\"\r\n",
       "                                    >\r\n",
       "                                </td>\r\n",
       "                                <td style=\"transform: rotate(0deg);\r\n",
       "                   text-align: center;\">\r\n",
       "                                    ↑\r\n",
       "                                </td>\r\n",
       "                            </tr>\r\n",
       "                        \n",
       "\r\n",
       "                            <tr>\r\n",
       "                                <td>$\\left|1\\right\\rangle$</td>\r\n",
       "                                <td>$0.0000 + 0.0000 i$</td>\r\n",
       "                                <td>\r\n",
       "                                    <progress\r\n",
       "                                        max=\"100\"\r\n",
       "                                        value=\"0\"\r\n",
       "                                        style=\"width: 100%;\"\r\n",
       "                                    >\r\n",
       "                                </td>\r\n",
       "                                <td style=\"transform: rotate(0deg);\r\n",
       "                   text-align: center;\">\r\n",
       "                                    ↑\r\n",
       "                                </td>\r\n",
       "                            </tr>\r\n",
       "                        \n",
       "\r\n",
       "                            <tr>\r\n",
       "                                <td>$\\left|2\\right\\rangle$</td>\r\n",
       "                                <td>$0.0000 + 0.0000 i$</td>\r\n",
       "                                <td>\r\n",
       "                                    <progress\r\n",
       "                                        max=\"100\"\r\n",
       "                                        value=\"0\"\r\n",
       "                                        style=\"width: 100%;\"\r\n",
       "                                    >\r\n",
       "                                </td>\r\n",
       "                                <td style=\"transform: rotate(0deg);\r\n",
       "                   text-align: center;\">\r\n",
       "                                    ↑\r\n",
       "                                </td>\r\n",
       "                            </tr>\r\n",
       "                        \n",
       "\r\n",
       "                            <tr>\r\n",
       "                                <td>$\\left|3\\right\\rangle$</td>\r\n",
       "                                <td>$0.0000 + 0.0000 i$</td>\r\n",
       "                                <td>\r\n",
       "                                    <progress\r\n",
       "                                        max=\"100\"\r\n",
       "                                        value=\"0\"\r\n",
       "                                        style=\"width: 100%;\"\r\n",
       "                                    >\r\n",
       "                                </td>\r\n",
       "                                <td style=\"transform: rotate(0deg);\r\n",
       "                   text-align: center;\">\r\n",
       "                                    ↑\r\n",
       "                                </td>\r\n",
       "                            </tr>\r\n",
       "                        \n",
       "\r\n",
       "                            <tr>\r\n",
       "                                <td>$\\left|4\\right\\rangle$</td>\r\n",
       "                                <td>$0.7071 + 0.0000 i$</td>\r\n",
       "                                <td>\r\n",
       "                                    <progress\r\n",
       "                                        max=\"100\"\r\n",
       "                                        value=\"49.999999999999986\"\r\n",
       "                                        style=\"width: 100%;\"\r\n",
       "                                    >\r\n",
       "                                </td>\r\n",
       "                                <td style=\"transform: rotate(0deg);\r\n",
       "                   text-align: center;\">\r\n",
       "                                    ↑\r\n",
       "                                </td>\r\n",
       "                            </tr>\r\n",
       "                        \n",
       "\r\n",
       "                            <tr>\r\n",
       "                                <td>$\\left|5\\right\\rangle$</td>\r\n",
       "                                <td>$0.0000 + 0.0000 i$</td>\r\n",
       "                                <td>\r\n",
       "                                    <progress\r\n",
       "                                        max=\"100\"\r\n",
       "                                        value=\"0\"\r\n",
       "                                        style=\"width: 100%;\"\r\n",
       "                                    >\r\n",
       "                                </td>\r\n",
       "                                <td style=\"transform: rotate(0deg);\r\n",
       "                   text-align: center;\">\r\n",
       "                                    ↑\r\n",
       "                                </td>\r\n",
       "                            </tr>\r\n",
       "                        \n",
       "\r\n",
       "                            <tr>\r\n",
       "                                <td>$\\left|6\\right\\rangle$</td>\r\n",
       "                                <td>$0.0000 + 0.0000 i$</td>\r\n",
       "                                <td>\r\n",
       "                                    <progress\r\n",
       "                                        max=\"100\"\r\n",
       "                                        value=\"0\"\r\n",
       "                                        style=\"width: 100%;\"\r\n",
       "                                    >\r\n",
       "                                </td>\r\n",
       "                                <td style=\"transform: rotate(0deg);\r\n",
       "                   text-align: center;\">\r\n",
       "                                    ↑\r\n",
       "                                </td>\r\n",
       "                            </tr>\r\n",
       "                        \n",
       "\r\n",
       "                            <tr>\r\n",
       "                                <td>$\\left|7\\right\\rangle$</td>\r\n",
       "                                <td>$0.0000 + 0.0000 i$</td>\r\n",
       "                                <td>\r\n",
       "                                    <progress\r\n",
       "                                        max=\"100\"\r\n",
       "                                        value=\"0\"\r\n",
       "                                        style=\"width: 100%;\"\r\n",
       "                                    >\r\n",
       "                                </td>\r\n",
       "                                <td style=\"transform: rotate(0deg);\r\n",
       "                   text-align: center;\">\r\n",
       "                                    ↑\r\n",
       "                                </td>\r\n",
       "                            </tr>\r\n",
       "                        \r\n",
       "                        </tbody>\r\n",
       "                    </table>\r\n",
       "                "
      ],
      "text/plain": [
       "|0⟩\t0.7071067811865475 + 0𝑖\n",
       "|1⟩\t0 + 0𝑖\n",
       "|2⟩\t0 + 0𝑖\n",
       "|3⟩\t0 + 0𝑖\n",
       "|4⟩\t0.7071067811865475 + 0𝑖\n",
       "|5⟩\t0 + 0𝑖\n",
       "|6⟩\t0 + 0𝑖\n",
       "|7⟩\t0 + 0𝑖"
      ]
     },
     "metadata": {},
     "output_type": "display_data"
    },
    {
     "data": {
      "application/json": "{\"@type\":\"tuple\"}",
      "text/plain": [
       "()"
      ]
     },
     "execution_count": 358,
     "metadata": {},
     "output_type": "execute_result"
    }
   ],
   "source": [
    "%simulate main"
   ]
  },
  {
   "cell_type": "code",
   "execution_count": null,
   "metadata": {},
   "outputs": [],
   "source": []
  },
  {
   "cell_type": "code",
   "execution_count": null,
   "metadata": {},
   "outputs": [],
   "source": []
  }
 ],
 "metadata": {
  "kernelspec": {
   "display_name": "Q#",
   "language": "qsharp",
   "name": "iqsharp"
  },
  "language_info": {
   "file_extension": ".qs",
   "mimetype": "text/x-qsharp",
   "name": "qsharp",
   "version": "0.10"
  }
 },
 "nbformat": 4,
 "nbformat_minor": 2
}
