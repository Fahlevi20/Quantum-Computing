{
 "cells": [
  {
   "cell_type": "code",
   "execution_count": 16,
   "metadata": {},
   "outputs": [
    {
     "name": "stderr",
     "output_type": "stream",
     "text": [
      "/snippet_.qs(55,12): error QS5022: No identifier with the name \"MeasureInteger\" exists.\n",
      "/snippet_.qs(55,27): error QS5022: No identifier with the name \"LittleEndian\" exists.\n",
      "/snippet_.qs(145,42): error QS5022: No identifier with the name \"PI\" exists.\n",
      "/snippet_.qs(145,47): error QS5022: No identifier with the name \"ToDouble\" exists.\n",
      "/snippet_.qs(135,18): error QS5022: No identifier with the name \"MResetZ\" exists.\n",
      "/snippet_.qs(135,42): error QS5022: No identifier with the name \"MResetZ\" exists.\n",
      "/snippet_.qs(46,16): error QS5022: No identifier with the name \"ArcSin\" exists.\n",
      "/snippet_.qs(46,23): error QS5022: No identifier with the name \"Sqrt\" exists.\n",
      "/snippet_.qs(46,33): error QS5022: No identifier with the name \"IntAsDouble\" exists.\n"
     ]
    }
   ],
   "source": [
    "//If all entries of x are One, the Oracle returns |y> = |1>\n",
    "operation andOracle (x : Qubit[], y : Qubit) : Unit {\n",
    "    body {\n",
    "        (Controlled X)(x, y);\n",
    "    }\n",
    "    adjoint auto;\n",
    "}\n",
    "\n",
    "//If all entries of x are Zero, the Oracle returns |y> = |0>\n",
    "operation orOracle (x : Qubit[], y : Qubit) : Unit {\n",
    "    body {\n",
    "        ApplyToEachA(X, x);\n",
    "        Controlled X (x, y);\n",
    "        X(y);\n",
    "        ApplyToEachA(X, x);\n",
    "    }\n",
    "    adjoint auto;\n",
    "}\n",
    "\n",
    "//Given two qubits, XOR gate if 01 or 10 |y> = |1>\n",
    "operation xorOracle2 (x : Qubit[], y : Qubit) : Unit {\n",
    "    X(y);\n",
    "    Controlled X(x, y);\n",
    "    X(x[0]);\n",
    "    X(x[1]);\n",
    "    Controlled X(x, y);\n",
    "    X(x[0]);\n",
    "    X(x[1]);\n",
    "}\n",
    "\n",
    "//Puts a state |000...0> into the GHZ state |000..0> + |111..1>/sqrt2\n",
    "operation buildGHZ (qs : Qubit[]) : Unit{\n",
    "    body {\n",
    "        H(qs[0]);\n",
    "        for (i in 1..Length(qs)-1){\n",
    "            CNOT(qs[0], qs[i]);\n",
    "        }\n",
    "    }\n",
    "    adjoint auto;\n",
    "}\n",
    "\n",
    "//Puts a state |000...0> into the GHZ state |100..0> + |010..0> + ... |000..1>/sqrtN\n",
    "operation buildW (qs : Qubit[]) : Unit is Adj + Ctl {\n",
    "    body {\n",
    "        let N = Length(qs);\n",
    "        Ry(2.0*ArcSin(Sqrt(1.0/(IntAsDouble(N)))), qs[0]);\n",
    "        if (N > 1){\n",
    "            ((ControlledOnInt)(0, buildW))([qs[0]], qs[1...]);\n",
    "        }\n",
    "    }\n",
    "    adjoint auto;\n",
    "}\n",
    "\n",
    "operation isAllZeros (qs : Qubit[]) : Int {\n",
    "    return MeasureInteger(LittleEndian(qs)) == 0 ? 0 | 1;\n",
    "}\n",
    "\n",
    "//Generate Bell State 0 : |00>, 1 : |01>, 2 : |10>, 3 |11>\n",
    "operation buildBell (qs : Qubit[], index : Int) : Unit {\n",
    "    H(qs[0]);\n",
    "    CNOT(qs[0], qs[1]);\n",
    "        \n",
    "    if (index%2 == 1){\n",
    "        Z(qs[1]);\n",
    "    }\n",
    "    if (index/2 == 1){\n",
    "        X(qs[0]);\n",
    "    }\n",
    "}\n",
    "\n",
    "//Distinguish Bell State 0 : |00>, 1 : |01>, 2 : |10>, 3 : |11>\n",
    "operation distinguishBell (qs : Qubit[]) : Int {\n",
    "    CNOT(qs[0], qs[1]);\n",
    "    H(qs[0]);\n",
    "    \n",
    "    let m1 = M(qs[0]) == One ? 1 | 0;\n",
    "    let m2 = M(qs[1]) == One ? 1 | 0;\n",
    "    \n",
    "    return 2*m2 + m1;\n",
    "}\n",
    "\n",
    "//Reverse the Qubit string\n",
    "operation reverseState (qs : Qubit[]) : Unit {\n",
    "    let N = Length(qs);\n",
    "    for (i in 0..(N/2)-1){\n",
    "        SWAP(qs[i], qs[N-i-1]);\n",
    "    }\n",
    "}\n",
    "\n",
    "//Create a copy of a the given state\n",
    "operation stateCopy (qs : Qubit[], copy : Qubit[]) : Unit {\n",
    "    for (i in 0..Length(qs)-1){\n",
    "        CNOT(qs[i], copy[i]);\n",
    "    }\n",
    "}\n",
    "\n",
    "//takes a integer array of 0/1s and creates an equivalent qubit string \n",
    "operation arrToQbit (bits : Int[], qs : Qubit[]) : Unit {\n",
    "    for (i in 0..Length(qs)-1){\n",
    "        if (bits[i] == 1){\n",
    "            X(qs[i]);\n",
    "        }\n",
    "    }\n",
    "}\n",
    "\n",
    "//Teleport 2 qubits + message\n",
    "operation Teleport (qAlice : Qubit, qBob : Qubit, qMessage : Qubit) : Unit {\n",
    "    H(qAlice);\n",
    "    CNOT(qAlice, qBob);\n",
    "    CNOT(qMessage, qAlice);\n",
    "    H(qMessage);\n",
    "    \n",
    "    (Controlled Z)([qMessage], qBob);\n",
    "    (Controlled X)([qAlice], qBob);\n",
    "}\n",
    "\n",
    "//Superdensecoding protocol\n",
    "operation SuperdenseCodingProtocol (b1 : Bool, b2 : Bool) : (Bool, Bool) {\n",
    "    using ((qAlice, qBob) = (Qubit(), Qubit())){\n",
    "        H(qAlice);\n",
    "        CNOT(qAlice, qBob);\n",
    "        \n",
    "        //MCMAHON BOOK P236\n",
    "        if (b1){\n",
    "            Z(qAlice);\n",
    "        }\n",
    "        if (b2){\n",
    "            X(qAlice);\n",
    "        }\n",
    "        \n",
    "        CNOT(qAlice, qBob);\n",
    "        H(qAlice);\n",
    "        \n",
    "        //Measure the qubit at Z basis, and reset it\n",
    "        return ((MResetZ(qAlice) == One, MResetZ(qBob) == One));\n",
    "    }\n",
    "}"
   ]
  },
  {
   "cell_type": "code",
   "execution_count": 14,
   "metadata": {},
   "outputs": [
    {
     "name": "stdout",
     "output_type": "stream",
     "text": [
      "/snippet_.qs(10,25): warning QS3002: Deprecated syntax. Use the type name \"Unit\" instead.\n",
      "/snippet_.qs(2,10): warning QS6003: The namespace is already open.\n",
      "/snippet_.qs(3,10): warning QS6003: The namespace is already open.\n"
     ]
    },
    {
     "data": {
      "application/json": "[\"Solve\",\"test\"]",
      "text/html": [
       "<ul><li>Solve</li><li>test</li></ul>"
      ],
      "text/plain": [
       "Solve, test"
      ]
     },
     "execution_count": 14,
     "metadata": {},
     "output_type": "execute_result"
    }
   ],
   "source": [
    "open Microsoft.Quantum.Intrinsic;\n",
    "open Microsoft.Quantum.Canon;\n",
    "open Microsoft.Quantum.Math;\n",
    "open Microsoft.Quantum.Diagnostics;\n",
    "open Microsoft.Quantum.Measurement;\n",
    "open Microsoft.Quantum.Convert;\n",
    "open Microsoft.Quantum.Preparation;\n",
    "\n",
    "operation Solve() : () {\n",
    "\n",
    "\n",
    "}\n",
    "\n",
    "operation test() : Unit {\n",
    "    let n = 0;\n",
    "    using(qs = Qubit[n]){\n",
    "\n",
    "        Message(\"Tested\");\n",
    "        ResetAll(qs);\n",
    "    }\n",
    "}"
   ]
  },
  {
   "cell_type": "code",
   "execution_count": 15,
   "metadata": {},
   "outputs": [
    {
     "name": "stdout",
     "output_type": "stream",
     "text": [
      "Tested\n"
     ]
    },
    {
     "data": {
      "application/json": "{\"@type\":\"tuple\"}",
      "text/plain": [
       "()"
      ]
     },
     "execution_count": 15,
     "metadata": {},
     "output_type": "execute_result"
    }
   ],
   "source": [
    "%simulate test"
   ]
  },
  {
   "cell_type": "code",
   "execution_count": 3,
   "metadata": {},
   "outputs": [
    {
     "data": {
      "application/json": "[\"build\",\"Solve\"]",
      "text/html": [
       "<ul><li>build</li><li>Solve</li></ul>"
      ],
      "text/plain": [
       "build, Solve"
      ]
     },
     "execution_count": 3,
     "metadata": {},
     "output_type": "execute_result"
    }
   ],
   "source": [
    "operation build (x : Qubit[], p : Int, rsp : Qubit) : Unit {\n",
    "    for (i in 0..Length(x)-p-1){\n",
    "        CNOT(x[i+p], x[i]);\n",
    "        X(x[i]);\n",
    "    }\n",
    "    Controlled X(x[0..Length(x)-p-1], rsp);\n",
    "    for (i in Length(x)-p-1..-1..0){\n",
    "        X(x[i]);\n",
    "        CNOT(x[i+p], x[i]);\n",
    "    }\n",
    "}\n",
    "\n",
    "operation Solve (x : Qubit[], y : Qubit) : Unit {\n",
    "    body (...) {\n",
    "        let N = Length(x);\n",
    "        using (qs = Qubit[N-1]){\n",
    "            for (i in 1..N-1){\n",
    "                build(x, i, qs[i-1]);\n",
    "            }\n",
    "            X(y);\n",
    "            (ControlledOnInt(0, X))(qs, y);\n",
    "            for (i in 1..N-1){\n",
    "                build(x, i, qs[i-1]);\n",
    "            }\n",
    "        }\n",
    "    }\n",
    "    adjoint auto;\n",
    "}"
   ]
  },
  {
   "cell_type": "code",
   "execution_count": null,
   "metadata": {},
   "outputs": [],
   "source": []
  }
 ],
 "metadata": {
  "kernelspec": {
   "display_name": "Q#",
   "language": "qsharp",
   "name": "iqsharp"
  },
  "language_info": {
   "file_extension": ".qs",
   "mimetype": "text/x-qsharp",
   "name": "qsharp",
   "version": "0.10"
  }
 },
 "nbformat": 4,
 "nbformat_minor": 2
}
