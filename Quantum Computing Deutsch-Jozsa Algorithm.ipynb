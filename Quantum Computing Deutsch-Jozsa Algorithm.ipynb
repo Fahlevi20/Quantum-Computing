{
 "cells": [
  {
   "cell_type": "code",
   "execution_count": 9,
   "metadata": {},
   "outputs": [],
   "source": [
    "import numpy as np\n",
    "import matplotlib.pyplot as plt\n",
    "from qiskit import *\n",
    "from qiskit.visualization import plot_bloch_vector\n",
    "from IPython.display import display, Math, Latex"
   ]
  },
  {
   "cell_type": "markdown",
   "metadata": {},
   "source": [
    "# Quantum Computing and the Deutsch-Jozsa Algorithm"
   ]
  },
  {
   "cell_type": "markdown",
   "metadata": {},
   "source": [
    "Quisque felis metus, interdum a velit a, pellentesque pharetra enim. Phasellus quis condimentum felis. Fusce ex risus, eleifend id gravida id, faucibus quis metus. Etiam mattis aliquam dignissim. Donec dictum, metus sit amet egestas commodo, felis orci dapibus ex, eu vehicula libero mauris cursus sapien. Vestibulum ante ipsum primis in faucibus orci luctus et ultrices posuere cubilia Curae; In hac habitasse platea dictumst. Integer eu tellus tempus erat commodo molestie non vitae quam. Nunc magna lorem, gravida sit amet eros in, euismod pulvinar nulla.\n",
    "Quisque felis metus, interdum a velit a, pellentesque pharetra enim. Phasellus quis condimentum felis. Fusce ex risus, eleifend id gravida id, faucibus quis metus. Etiam mattis aliquam dignissim. Donec dictum, metus sit amet egestas commodo, felis orci dapibus ex, eu vehicula libero mauris cursus sapien. Vestibulum ante ipsum primis in faucibus orci luctus et ultrices posuere cubilia Curae; In hac habitasse platea dictumst. Integer eu tellus tempus erat commodo molestie non vitae quam. Nunc magna lorem, gravida sit amet eros in, euismod pulvinar nulla."
   ]
  },
  {
   "cell_type": "markdown",
   "metadata": {},
   "source": [
    "## Why Quantum Computing ?"
   ]
  },
  {
   "cell_type": "markdown",
   "metadata": {},
   "source": [
    "In 1981, the Nobel laureate Richard Feynman asked, “What kind of computer are we going to use to simulate physics?”\n",
    "\n",
    "*Nature isn’t classical, dammit, and if you want to make a simulation of Nature, you’d better make it quantum mechanical, and by golly it’s a wonderful problem, because it doesn’t look so easy.*\n",
    "\n",
    "Richard Feynman speech can be used to see how powerful quantum computing could be to let us understand more about our universe, since quantum physics try to explain and understand how our universe is built from the deepest subatomic dimensions to huge macroscopic phenomena. What can lead as to ask ourselves if our classical compurters are going to be able to solve and deal with problems that nature by essence shows to be a quantum complex behavior, that most likely are exponential problems for our classical computers, like the nitrogen-fixing process on agriculture, where dealing with several atoms interections, as the number of atoms grows the dimesion of our problem grows exponencially, what is impossible for a classical computer to solve nowdays.\n",
    "\n",
    "So the question is, how quantum computers could solve these kind of problems some day ? With a different model of treating information closer with how our universe and nature behave, from the deepest levels and beyond."
   ]
  },
  {
   "cell_type": "markdown",
   "metadata": {},
   "source": [
    "### Classical Bit vs Qubit"
   ]
  },
  {
   "attachments": {
    "image.png": {
     "image/png": "[encoded data removed]"
    }
   },
   "cell_type": "markdown",
   "metadata": {},
   "source": [
    "Our classical computers, those that we've in home, desktops, notebooks, cellphones all of them in the deepest level stores the information as different sequences of **0s** and **1s**, so as **0100100100** where each entrie is or 0 or 1. What makes a huge difference when we compare it with how the quantum computers stores information and how it work with it, or how a state 0 or 1 can be seen as a unitary vector state $|\\psi\\rangle$ in a Hilbert space $\\mathcal{H}$ or a Qubit, in the computational basis, defined as:\n",
    "\n",
    "\n",
    "\n",
    "$$|\\psi\\rangle = \\alpha|0\\rangle + \\beta|1\\rangle$$\n",
    "\n",
    "$$|\\alpha|^2 + |\\beta|^2 = 1$$\n",
    "\n",
    "\n",
    "![image.png](attachment:image.png)\n",
    "\n",
    "\n",
    "\n",
    "\n",
    "\n",
    "Where the scalars alpha and beta are used to see the amplitude of each state, or more generally, its probability to colapse over its respective state $|0\\rangle$ or $|1\\rangle$, which is like we could have all possible states at the same time, but we can only measure and see a small piece of this huge information."
   ]
  },
  {
   "cell_type": "markdown",
   "metadata": {},
   "source": [
    "### Quantum Superpostion and Entanglement"
   ]
  },
  {
   "cell_type": "markdown",
   "metadata": {},
   "source": [
    "As we're dealing with quantum behavior some pretty important features of quantum mechanics that are used in quantum computing are the **Quantum Superposition** and the **Quantum Entanglement**. If were given to us a state $\\psi$, when neither of its constants, lets say for example $\\alpha$ and $\\beta$, are null, we say that this state is in **superpostion**. More generally, which means that before a potential measure a phisical system is partially over all possible existants theoretical states.\n",
    "\n",
    "$$\n",
    "|\\psi\\rangle = a_0|0\\rangle + a_1|1\\rangle + \\dots + a_{n-1}|n-1 \\rangle = \\sum_{i=0}^{n-1}a_i|i\\rangle\n",
    "$$\n",
    "\n",
    "$$\n",
    "\\sum_{i = 0}^{n-1} |a_i|^2 = 1\n",
    "$$\n",
    "\n",
    "However when we measure it, it colapses to a unique state, so its like nature is doing a massive work, but it is willing to share with us just a small piece of it, a hint, for us to solve some very difficult problems.\n",
    "\n",
    "The space of these vector states can be seen by tensor product of this system states, so if we've **n** components we can write those as \n",
    "\n",
    "$$\n",
    "\\begin{align*}\n",
    "|\\Psi\\rangle &= |\\psi_0\\rangle \\otimes |\\psi_1\\rangle \\otimes \\dots \\otimes |\\psi_{n-1}\\rangle\\\\\n",
    "             &= |\\psi_0\\rangle |\\psi_1\\rangle \\dots |\\psi_{n-1}\\rangle\\\\\n",
    "             &= |\\psi_0 \\psi_1 \\dots \\psi_{n-1}\\rangle\n",
    "\\end{align*}\n",
    "$$\n",
    "\n",
    "If a state can not be writen by the tensor product of other states we've that this states is **entangled**, so as the wellknown Bell-State\n",
    "\n",
    "\n",
    "$$\n",
    "\\begin{align*}\n",
    "|\\Psi\\rangle = \\frac{|00\\rangle + |11\\rangle}{\\sqrt{2}}\n",
    "\\end{align*}\n",
    "$$\n",
    "\n",
    "\n",
    "Where if we measure one of the Qubits we know exactly the state of the other, even if the other Qubit is in the other side of the galaxy, with is forbidden by the theory of relativity, since it would be faster then the speed of light, which is known as the *EPR Paradox*."
   ]
  },
  {
   "cell_type": "markdown",
   "metadata": {},
   "source": [
    "### Programming with Quantum Gates"
   ]
  },
  {
   "cell_type": "markdown",
   "metadata": {},
   "source": [
    "While in Classical Computers works by applying simple boolean operators like (NOT, NAND, XOR, AND, OR), Quantum Computers works Quantum Gates, which mathematically speaking are unitary operators so that\n",
    "\n",
    "$$\n",
    "\n",
    "$$"
   ]
  },
  {
   "cell_type": "markdown",
   "metadata": {},
   "source": [
    "## The Deutsch-Jozsa Algorithm"
   ]
  },
  {
   "cell_type": "markdown",
   "metadata": {},
   "source": [
    "The Deutsch-Jozsa Algorithm was one of the first algorithms to show a improvement over the classical solution to find whether a function is balanced or constant. Even though the algorithm does not has a important application in real life it show us in very simple way how this new kind of computing can improve our classical computers algorithm solutions.\n",
    "\n",
    "The functions that will be considerend in this algorithm are those that maps a input $\\{0, 1\\}^{n}$ to an output $\\{0, 1\\}$, i.e, $\\   \\mathcal{f}:\\ \\{0, 1\\}^n \\mapsto \\{0, 1\\}$ , and a function is called baleced if exactly half of its inputs give us an output equal to **0** and the other half equals **1**.\n",
    "\n",
    "$$\n",
    "\\begin{align*}\n",
    "Constant:\\ & f(0, 0) = 1 && f(0, 1) = 1  && f(1, 0) = 1 && f(1, 1) = 1 \\\\\n",
    "Constant:\\ & f(0, 0) = 0 && f(0, 1) = 0  && f(1, 0) = 0 && f(1, 1) = 0 \\\\\n",
    "Balanced:\\ & f(0, 0) = 1 && f(0, 1) = 0  && f(1, 0) = 1 && f(1, 1) = 0 \\\\\n",
    "Balanced:\\ & f(0, 0) = 0 && f(0, 1) = 1  && f(1, 0) = 0 && f(1, 1) = 1 \n",
    "\\end{align*}\n",
    "$$"
   ]
  },
  {
   "cell_type": "markdown",
   "metadata": {},
   "source": [
    "However, even being the \"Hello World\" of the Quantum Algorithms, the The Deutsch-Jozsa Algorithm is not as simple as it looks like. Therefore, as we already discussed the quantum circuits works by applying several unitary matrices operations over a quantum state on the computational basis."
   ]
  },
  {
   "cell_type": "markdown",
   "metadata": {},
   "source": [
    "$$\n",
    "|0\\rangle = \\begin{bmatrix}\n",
    "                1 \\\\\n",
    "                0\n",
    "            \\end{bmatrix}\n",
    "$$"
   ]
  },
  {
   "cell_type": "markdown",
   "metadata": {},
   "source": [
    "$$\n",
    "|1\\rangle = \\begin{bmatrix}\n",
    "                0 \\\\\n",
    "                1\n",
    "            \\end{bmatrix}\n",
    "$$"
   ]
  },
  {
   "cell_type": "code",
   "execution_count": null,
   "metadata": {},
   "outputs": [],
   "source": []
  }
 ],
 "metadata": {
  "kernelspec": {
   "display_name": "Python 3",
   "language": "python",
   "name": "python3"
  },
  "language_info": {
   "codemirror_mode": {
    "name": "ipython",
    "version": 3
   },
   "file_extension": ".py",
   "mimetype": "text/x-python",
   "name": "python",
   "nbconvert_exporter": "python",
   "pygments_lexer": "ipython3",
   "version": "3.6.8"
  }
 },
 "nbformat": 4,
 "nbformat_minor": 2
}
