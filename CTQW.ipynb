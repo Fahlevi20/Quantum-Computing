{
 "cells": [
  {
   "cell_type": "code",
   "execution_count": 1,
   "metadata": {},
   "outputs": [],
   "source": [
    "import numpy as np\n",
    "from numpy import linalg as LA\n",
    "from scipy.linalg import expm, sinm, cosm\n",
    "import matplotlib.pyplot as plt\n",
    "import pandas as pd\n",
    "import seaborn as sns\n",
    "import math\n",
    "from scipy import stats\n",
    "%matplotlib inline\n",
    "\n",
    "from IPython.display import Image, display, Math, Latex\n",
    "sns.set(color_codes=True)"
   ]
  },
  {
   "cell_type": "markdown",
   "metadata": {},
   "source": [
    "# Quantum Walks"
   ]
  },
  {
   "cell_type": "markdown",
   "metadata": {},
   "source": [
    "Quantum walks are the quantum variation of the well known random walks heavily used in computer science in many of its fields, one pretty famous example is the *Page Rank* algorithm, which can be generally seen as a walker on web pages that wants to rank which pages are the most relevant within an specific set of pages. \n",
    "\n",
    "Then in constrast to the classical random walk, where the walker occupies definite states and the randomness arises due to stochastic transitions between states, in quantum walks randomness arises throughout some properties from quantum mechanics like quantum superposition of states, non-randomness, reversible unitary evolution and collapse of the wave function due to state measurements.\n",
    "\n",
    "It is pretty used in randomized algorithms, and are part of several quantum algorithms, as the Grover's search algorithm, which can be seen as a quantum walk algorithm.\n",
    "\n",
    "Mathematically we can see the Quantum Walks, or more specifically Continuous-Time Quantum Walks in graphs, like a transition operator from a initial state to a state $t$, which can be seen as $U(t) = U_H(t)$, defined by\n",
    "\n",
    "$$\n",
    "    U(t) = e^{itH}\n",
    "$$\n",
    "\n",
    "This formulation comes from a solution to the Schrödinger’s equation, where $t$ defines our time and $H$ describes our Hamiltonian, which in this work will be seen as the graph adjacency matrix $A$ or the graph Laplacian matrix $L$."
   ]
  },
  {
   "cell_type": "markdown",
   "metadata": {},
   "source": [
    "## Graph Theory and Linear Algebra Basics"
   ]
  },
  {
   "cell_type": "markdown",
   "metadata": {},
   "source": [
    "To understand how the $U(t)$ operator works we must understand its matrix nature and how the function works over the hamiltonian A."
   ]
  },
  {
   "cell_type": "markdown",
   "metadata": {},
   "source": [
    "### Eigenvalues and Eigenvectors\n",
    "\n",
    "Let $M$ be a symmetric matrix, we say that $v$ is a eigenvector and $\\lambda$ a eigenvalue of $M$ if the following equation holds\n",
    "\n",
    "$$\n",
    "  Av = \\lambda v\n",
    "$$"
   ]
  },
  {
   "cell_type": "code",
   "execution_count": 21,
   "metadata": {},
   "outputs": [],
   "source": [
    "#Let A be the adjacency matrix of G = C_3, i.e, the triangle graph\n",
    "A = np.array([[0, 1, 1], \n",
    "              [1, 0, 1],\n",
    "              [1, 1, 0]])\n",
    "\n",
    "#Calculate the eigenvalues\n",
    "\n",
    "#EIGENVALUES\n",
    "lambd = np.array([-1, -1, 2])\n",
    "\n",
    "#EIGENVECTORS\n",
    "v = np.array([[-1, -1, 1],\n",
    "              [ 1,  0, 1],\n",
    "              [ 0,  1, 1]])"
   ]
  },
  {
   "cell_type": "markdown",
   "metadata": {},
   "source": [
    "$$\n",
    "   A = \\begin{pmatrix}\n",
    "        0 & 1 & 1\\\\\n",
    "        1 & 0 & 1\\\\\n",
    "        1 & 1 & 0\n",
    "       \\end{pmatrix}\n",
    "$$\n",
    "\n",
    "Then we have two eigenvalues, $\\lambda_1 = -1$ with multiplicity two and $\\lambda_2 = 2$ with multiplicity one, which give us the following:\n",
    "\n",
    "$$\n",
    "    \\lambda_1 = -1 \\Rightarrow v_1 = \\begin{pmatrix}\n",
    "                   -1\\\\\n",
    "                    1\\\\\n",
    "                    0 \n",
    "                \\end{pmatrix},\\; \\;\n",
    "                                  v_2 = \\begin{pmatrix}\n",
    "                   -1\\\\\n",
    "                    0\\\\\n",
    "                    1 \n",
    "                \\end{pmatrix}\\\\\n",
    "$$\n",
    "\n",
    "$$\n",
    "     \\lambda_2 = 2 \\Rightarrow v_3 = \\begin{pmatrix}\n",
    "                    1\\\\\n",
    "                    1\\\\\n",
    "                    1 \n",
    "                \\end{pmatrix}\n",
    "$$\n",
    "\n",
    "*A quick remark, the multiplicity of a eigenvalue is the dimension of its eigenspace.*"
   ]
  },
  {
   "cell_type": "code",
   "execution_count": 30,
   "metadata": {},
   "outputs": [
    {
     "name": "stdout",
     "output_type": "stream",
     "text": [
      "[ True  True  True]\n",
      "[ True  True  True]\n",
      "[ True  True  True]\n"
     ]
    }
   ],
   "source": [
    "print(np.isclose(A@v[:,0],lambd[0]*v[:, 0])) #Av_0 = lambd_0 * v_0\n",
    "print(np.isclose(A@v[:,1],lambd[1]*v[:, 1])) #Av_1 = lambd_1 * v_1\n",
    "print(np.isclose(A@v[:,2],lambd[2]*v[:, 2])) #Av_2 = lambd_2 * v_2"
   ]
  },
  {
   "cell_type": "markdown",
   "metadata": {},
   "source": [
    "And this is known as the fundamental property of the eigenvectors.\n",
    "\n",
    "And we say that $M_{nxn}$ is a diagonalizable matrix, if and only if, $M$ have a set of $n$ linearly independent eigenvector (i.e none of its eigenvectors can be written as a linear combination of others), and can be factorized as\n",
    "\n",
    "$$\n",
    "    M = PDP^{-1}\n",
    "$$\n",
    "\n",
    "Where the matrix $P$ is given by the eigenvectors of A as its columns and $D$ a diagonal matrix with the eigenvalues.\n",
    "\n",
    "We can get this relation by the fundamental property of the eigenvectors,\n",
    "\n",
    "$$\n",
    "    Av = \\lambda v\\\\\n",
    "    AP = PD\\\\\n",
    "    A = PDP^{-1}\\\\\n",
    "$$\n",
    "\n"
   ]
  },
  {
   "cell_type": "code",
   "execution_count": 44,
   "metadata": {},
   "outputs": [
    {
     "data": {
      "text/plain": [
       "array([[ True,  True,  True],\n",
       "       [ True,  True,  True],\n",
       "       [ True,  True,  True]], dtype=bool)"
      ]
     },
     "execution_count": 44,
     "metadata": {},
     "output_type": "execute_result"
    }
   ],
   "source": [
    "np.isclose(v@np.diag(lambd)@LA.inv(v), A) #A = PDP^-1"
   ]
  },
  {
   "cell_type": "markdown",
   "metadata": {},
   "source": [
    "And we have that a function $f(M)$, where $M$ is symmetric and diagonalizable matrix can be seen as\n",
    "\n",
    "$$\n",
    "    f(M) = Pf(D)P^{-1}\n",
    "$$"
   ]
  },
  {
   "cell_type": "code",
   "execution_count": 47,
   "metadata": {},
   "outputs": [
    {
     "data": {
      "text/plain": [
       "array([[ True,  True,  True],\n",
       "       [ True,  True,  True],\n",
       "       [ True,  True,  True]], dtype=bool)"
      ]
     },
     "execution_count": 47,
     "metadata": {},
     "output_type": "execute_result"
    }
   ],
   "source": [
    "np.isclose(expm(A), v@np.diag(math.e**lambd)@LA.inv(v)) #exp(A) = Pexp(D)P^-1"
   ]
  },
  {
   "cell_type": "markdown",
   "metadata": {},
   "source": [
    "Furthermore, let A be a matrix with distinct eigenvalues $\\lambda_0, \\lambda_1, \\dots, \\lambda_{n-1}$ and $E_0, E_1, \\dots, E_{n-1}$ the orthogonal projections $E_i$ belonging to $\\lambda_i$. Then $A$ can be written as\n",
    "\n",
    "$$\n",
    "    A = \\sum_{i=0}^{n-1} \\lambda_i E_i\n",
    "$$\n",
    "\n",
    "Which is called the Spectral Decomposition of A. And if $f$ is a analityc function applied on $A$, then $f(A)$ is defined in terms of a power series as\n",
    "\n",
    "$$\n",
    "   f(A) = \\sum_{i=0}^{n-1} f(\\lambda_i) E_i\n",
    "$$\n",
    "\n",
    "And as immediate consequence we get the following\n",
    "\n",
    "$$\n",
    "   U(t) = exp(itA) = \\sum_{i=0}^{n-1} exp(it\\lambda_i) E_i\n",
    "$$"
   ]
  },
  {
   "cell_type": "markdown",
   "metadata": {},
   "source": [
    "## Continuous-Time Quantum Walks"
   ]
  },
  {
   "cell_type": "markdown",
   "metadata": {},
   "source": [
    "Finally we can define our continuous-time quantum walk by the unitary operator $U(t)$ on $G_n$ at time $t \\geq 0$ as the following\n",
    "\n",
    "$$\n",
    "    U_{G_n}(t) = e^{-itA_{G_n}} \\equiv \\sum_{k = 0}^{\\infty}\\frac{(it)^k}{k!}A_{G_n}^k\n",
    "$$\n",
    "\n",
    "And given a state $|\\psi_{G_n, t}\\rangle$ is the probability amplitude of each vertice at time $t$ is given by \n",
    "\n",
    "$$\n",
    "    |\\psi_{Gn, t}\\rangle = U_{G_n}(t)|\\psi_{G_n, 0}\\rangle\n",
    "$$\n",
    "\n",
    "Where the probability that the walker on $G_n$ is in position $x \\in V(G)$ at time $t$ with initial state $|\\psi_{G_n, 0}\\rangle$ is\n",
    "\n",
    "$$\n",
    "    \\mathcal{P}(x) = \\big|U_{G_n}(t)|\\psi_{G_n, 0}\\rangle(x)\\big|^2 \n",
    "$$"
   ]
  },
  {
   "cell_type": "markdown",
   "metadata": {},
   "source": [
    "## Example"
   ]
  },
  {
   "cell_type": "markdown",
   "metadata": {},
   "source": [
    "Now let's see an example of how it work on cycle graph $C_n$ for some numbers of vertices."
   ]
  },
  {
   "cell_type": "code",
   "execution_count": 4,
   "metadata": {},
   "outputs": [],
   "source": [
    "#number of vertices\n",
    "n = 200\n",
    "\n",
    "#Define adjacency matrix A_Cn\n",
    "A = np.zeros((n, n))\n",
    "for i in range(n):\n",
    "    j1 = (i - 1)%n\n",
    "    j2 = (i + 1)%n\n",
    "    A[i][j1] = 1\n",
    "    A[i][j2] = 1\n",
    "        \n",
    "\n",
    "#Define degree matrix D\n",
    "#Each vertex i \\in V(G)\n",
    "#will have degree(i) = 2\n",
    "D = 2*np.eye(n)\n",
    "\n",
    "#Define our initial state Psi_0\n",
    "#with probability 1 that it will\n",
    "#at the vertex y = ?\n",
    "y = math.floor(n/2)\n",
    "psi_0 = np.zeros(n)\n",
    "psi_0[y] = 1\n",
    "\n",
    "#Define the time t >= 0\n",
    "t = 100\n",
    "\n",
    "gamma = 1/(2*math.sqrt(2))\n",
    "\n",
    "#Exponentiate or hamiltonian\n",
    "H = expm(-(1j)*gamma*t*A)\n",
    "\n",
    "#Compute Psi_t\n",
    "psi_t = H @ psi_0\n",
    "\n",
    "#Compute the probabilities\n",
    "p_t = np.copy(psi_t)\n",
    "p_t = abs(p_t)**2"
   ]
  },
  {
   "cell_type": "code",
   "execution_count": 5,
   "metadata": {},
   "outputs": [
    {
     "data": {
      "text/plain": [
       "[<matplotlib.lines.Line2D at 0x7f88b027fb70>]"
      ]
     },
     "execution_count": 5,
     "metadata": {},
     "output_type": "execute_result"
    },
    {
     "data": {
      "image/png": "[encoded data removed]",
      "text/plain": [
       "<matplotlib.figure.Figure at 0x7f88b037ce48>"
      ]
     },
     "metadata": {
      "needs_background": "light"
     },
     "output_type": "display_data"
    }
   ],
   "source": [
    "plt.plot(np.linspace(1, n, n), psi_t*np.conjugate(psi_t))"
   ]
  },
  {
   "cell_type": "markdown",
   "metadata": {},
   "source": [
    "Then we can easily visualize how our quantum-walker behaves in graph $C_n$ given an initial state and a time t."
   ]
  },
  {
   "cell_type": "code",
   "execution_count": null,
   "metadata": {},
   "outputs": [],
   "source": []
  }
 ],
 "metadata": {
  "kernelspec": {
   "display_name": "Python 3",
   "language": "python",
   "name": "python3"
  },
  "language_info": {
   "codemirror_mode": {
    "name": "ipython",
    "version": 3
   },
   "file_extension": ".py",
   "mimetype": "text/x-python",
   "name": "python",
   "nbconvert_exporter": "python",
   "pygments_lexer": "ipython3",
   "version": "3.6.9"
  }
 },
 "nbformat": 4,
 "nbformat_minor": 2
}
