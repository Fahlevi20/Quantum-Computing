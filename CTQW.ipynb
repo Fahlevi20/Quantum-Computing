{
 "cells": [
  {
   "cell_type": "code",
   "execution_count": 1,
   "metadata": {},
   "outputs": [],
   "source": [
    "import numpy as np\n",
    "from scipy.linalg import expm, sinm, cosm\n",
    "import matplotlib.pyplot as plt\n",
    "import pandas as pd\n",
    "import seaborn as sns\n",
    "import math\n",
    "from scipy import stats\n",
    "%matplotlib inline\n",
    "\n",
    "from IPython.display import Image, display, Math, Latex\n",
    "sns.set(color_codes=True)"
   ]
  },
  {
   "cell_type": "markdown",
   "metadata": {},
   "source": [
    "# Quantum Walks"
   ]
  },
  {
   "cell_type": "markdown",
   "metadata": {},
   "source": [
    "Quantum walks are the quantum variation of the well known random walks heavily computer science in many of its fields, one pretty famous example is the *Page Rank* algorithm, which can be generally seen as a walker on web pages that wants to rank which pages are the most relevant within an specific set of pages. \n",
    "\n",
    "Then in constrast to the classical random walk, where the walker occupies definite states and the randomness arises due to stochastic transitions between states, in quantum walks randomness arises through some properties from quantum mechanics like quantum superposition of states, non-random, reversible unitary evolution and collapse of the wave function due to state measurements. It is pretty used in randomized algorithms, and are part of several quantum algorithms, as the Grover's search algorithm, which can be seen as a quantum walk algorithm.\n",
    "\n",
    "Mathematically we can see the Quantum Walks, or more specifically Continuous-Time Quantum Walks in graphs, like a transition operator from a initial state to a state $t$, which can be seen as $U(t) = U_H(t)$, defined by\n",
    "\n",
    "$$\n",
    "    U(t) = e^{-itH}\n",
    "$$\n",
    "\n",
    "This formulation comes from a solution to the Schrödinger’s equation, where $t$ defines our time and $H$ describes our Hamiltonian, which in this work will be seen as the graph adjacency matrix $A$ or the graph Laplacian matrix $L$."
   ]
  },
  {
   "cell_type": "markdown",
   "metadata": {},
   "source": [
    "## Graph Theory and a Quantum approach on Continuous-Time Random Walks"
   ]
  },
  {
   "cell_type": "markdown",
   "metadata": {},
   "source": [
    "Now the we understand very superficially what is a quantum walk, lets define some basics for a deeper understanding. Let $G$ be a graph where $G = (V, E)$, where $V(G)$ is the graph's vertex set and $E(G) = \\{(u, v)\\ \\in\\ E(G)\\ |\\ u\\ ~\\ v\\ and\\ u,\\ v\\ \\in\\ V(G)\\}$ is the vertex set, we define the graph's Adjacency $A$ and Laplacian $L$ matrix as it follows:\n",
    "\n",
    "$$\n",
    "A_{ij}=\\left\\{\n",
    "\\begin{array}\t\n",
    "    %1, & \\text{(i, j)} \\in E\\\\\n",
    "    0, & \\text{otherwise}\n",
    "\\end{array}\\right.\n",
    "$$\n",
    "\n",
    "$$\n",
    "    L_{ij}=\\left\\{\n",
    "\\begin{array}\t\n",
    "    %-1, & \\text{(i, j)} \\in E\\\\\n",
    "    \\mathrm{Deg}(i) & if i = j\\\\\n",
    "    0, & \\text{otherwise}    \n",
    "\\end{array}\\right.\n",
    "$$\n",
    "\n",
    "Where L is obtained from the equation $L = D - A$, where $A$ is the adjacency matrix and $D$ the diagonal matrix with the degree of each vertex in the diagonal. \n",
    "\n",
    "The Laplacian is used to see the behavior of the classical continuous random walks, which is descriped by a vector $p(t)$ of length $|V(G)|$, where each entrie determines the probability of the walker be on the $i^{th}$ vertex at time $t$, where $p(t)$ is defined as\n",
    "\n",
    "$$\n",
    "    \\frac{d}{dt}p_i(t) = \\sum_{(i, j) \\in E} L_{ij}p_j(t)\n",
    "$$\n",
    "\n",
    "$$\n",
    "    p(t) = e^{tL}p(0)\n",
    "$$\n",
    "\n",
    "By the Schrödinger equation we've that $i\\frac{d}{dt}|\\psi\\rangle = H|\\psi\\rangle$, then \n",
    "\n",
    "$$\n",
    "    i\\frac{d}{dt}\\psi(t) = \\sum_{(i, j) \\in E} L_{ij}\\psi(t)\\\\\n",
    "    |\\psi(t)\\rangle = e^{-iLt}|\\psi(0)\\rangle \n",
    "$$\n",
    "\n",
    "Which defines our quantum analogue formulation for Continuous-Time Quantum Walks. This lead Graph Theory and Quantum Information Theory to lots of studies on how CTQW works on some deterministic structures such as the line graph, path graph, star graph, cycle graphs, complete graphs etc."
   ]
  },
  {
   "cell_type": "markdown",
   "metadata": {},
   "source": [
    "## Continuous-Time Quantum Walks"
   ]
  },
  {
   "cell_type": "markdown",
   "metadata": {},
   "source": [
    "Finally we can define our continuous-time quantum walk by the unitary operator $U(t)$ on $G_n$ at time $t \\geq 0$ as the following\n",
    "\n",
    "$$\n",
    "    U_{G_n}(t) = e^{-itL_{G_n}} \\equiv \\sum_{k = 0}^{\\infty}\\frac{(it)^k}{k!}L_{G_n}^k\n",
    "$$\n",
    "\n",
    "And given a state $|\\psi_{G_n, t}\\rangle$ is the probability amplitude of each vertice at time $t$ is given by \n",
    "\n",
    "$$\n",
    "    |\\psi_{Gn, t}\\rangle = U_{G_n}(t)|\\psi_{G_n, 0}\\rangle\n",
    "$$\n",
    "\n",
    "Where the probability that the walker on $G_n$ is in position $x \\in V(G)$ at time $t$ with initial state $|\\psi_{G_n, 0}$ is\n",
    "\n",
    "$$\n",
    "    \\mathcal{P}(x) = \\big|U_{G_n}(t)|\\psi_{G_n, 0}\\rangle(x)\\big|^2 \n",
    "$$"
   ]
  },
  {
   "cell_type": "markdown",
   "metadata": {},
   "source": [
    "## Example"
   ]
  },
  {
   "cell_type": "markdown",
   "metadata": {},
   "source": [
    "Now let's see an example of how it work on cycle graph $C_n$ for some numbers of vertices."
   ]
  },
  {
   "cell_type": "code",
   "execution_count": 2,
   "metadata": {},
   "outputs": [],
   "source": [
    "#number of vertices\n",
    "n = 1000\n",
    "\n",
    "#Define adjacency matrix A_Cn\n",
    "A = np.zeros((n, n))\n",
    "for i in range(n):\n",
    "    j1 = (i - 1)%n\n",
    "    j2 = (i + 1)%n\n",
    "    A[i][j1] = 1\n",
    "    A[i][j2] = 1\n",
    "        \n",
    "\n",
    "#Define degree matrix D\n",
    "#Each vertex i \\in V(G)\n",
    "#will have degree(i) = 2\n",
    "D = 2*np.eye(n)\n",
    "\n",
    "#Define the Laplacian L\n",
    "#that will be our hamiltonian\n",
    "L = D - A\n",
    "\n",
    "#Define our initial state Psi_0\n",
    "#with probability 1 that it will\n",
    "#at the vertex y = ?\n",
    "y = math.floor(n/2)\n",
    "psi_0 = np.zeros(n)\n",
    "psi_0[y] = 1\n",
    "\n",
    "#Define the time t >= 0\n",
    "t = 500\n",
    "\n",
    "#Exponentiate or hamiltonian\n",
    "H = expm(-(1j)*t*L)\n",
    "\n",
    "#Compute Psi_t\n",
    "psi_t = H @ psi_0\n",
    "\n",
    "#Compute the probabilities\n",
    "p_t = np.copy(psi_t)\n",
    "p_t = abs(p_t)**2"
   ]
  },
  {
   "cell_type": "code",
   "execution_count": 3,
   "metadata": {},
   "outputs": [
    {
     "data": {
      "text/plain": [
       "<matplotlib.axes._subplots.AxesSubplot at 0x7f6e3c64c898>"
      ]
     },
     "execution_count": 3,
     "metadata": {},
     "output_type": "execute_result"
    },
    {
     "data": {
      "image/png": "[encoded data removed]",
      "text/plain": [
       "<matplotlib.figure.Figure at 0x7f6e7140b8d0>"
      ]
     },
     "metadata": {
      "needs_background": "light"
     },
     "output_type": "display_data"
    }
   ],
   "source": [
    "sns.kdeplot(p_t, shade=True, cut=0)"
   ]
  },
  {
   "cell_type": "code",
   "execution_count": 4,
   "metadata": {},
   "outputs": [
    {
     "data": {
      "text/plain": [
       "<matplotlib.axes._subplots.AxesSubplot at 0x7f6e3aeb3048>"
      ]
     },
     "execution_count": 4,
     "metadata": {},
     "output_type": "execute_result"
    },
    {
     "data": {
      "image/png": "[encoded data removed]",
      "text/plain": [
       "<matplotlib.figure.Figure at 0x7f6e3ae97390>"
      ]
     },
     "metadata": {
      "needs_background": "light"
     },
     "output_type": "display_data"
    }
   ],
   "source": [
    "sns.distplot(p_t)"
   ]
  },
  {
   "cell_type": "markdown",
   "metadata": {},
   "source": [
    "Then we can easily visualize how our quantum-walker behaves on graph $C_n$ given an initial state and a period of time t."
   ]
  }
 ],
 "metadata": {
  "kernelspec": {
   "display_name": "Python 3",
   "language": "python",
   "name": "python3"
  },
  "language_info": {
   "codemirror_mode": {
    "name": "ipython",
    "version": 3
   },
   "file_extension": ".py",
   "mimetype": "text/x-python",
   "name": "python",
   "nbconvert_exporter": "python",
   "pygments_lexer": "ipython3",
   "version": "3.6.8"
  }
 },
 "nbformat": 4,
 "nbformat_minor": 2
}
