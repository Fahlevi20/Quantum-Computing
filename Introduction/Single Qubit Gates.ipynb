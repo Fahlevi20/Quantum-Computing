{
 "cells": [
  {
   "cell_type": "code",
   "execution_count": 1,
   "metadata": {},
   "outputs": [],
   "source": [
    "import matplotlib.pyplot as plt\n",
    "%matplotlib inline\n",
    "import numpy as np\n",
    "\n",
    "from qiskit import IBMQ, BasicAer\n",
    "from qiskit.providers.ibmq import least_busy\n",
    "from qiskit import QuantumCircuit, ClassicalRegister, QuantumRegister, execute\n",
    "\n",
    "from qiskit.tools.visualization import plot_histogram\n",
    "from IPython.display import display, Math, Latex"
   ]
  },
  {
   "cell_type": "markdown",
   "metadata": {},
   "source": [
    "# Introduction to Quantum Computing"
   ]
  },
  {
   "cell_type": "markdown",
   "metadata": {},
   "source": [
    "## Why Quantum Computing ?"
   ]
  },
  {
   "cell_type": "markdown",
   "metadata": {},
   "source": [
    "In 1981, the Nobel laureate Richard Feynman asked, “What kind of computer are we going to use to simulate physics?”\n",
    "\n",
    "*Nature isn’t classical, dammit, and if you want to make a simulation of Nature, you’d better make it quantum mechanical, and by golly it’s a wonderful problem, because it doesn’t look so easy.*\n",
    "\n",
    "Richard Feynman speech can be used to see how powerful quantum computing could be to let us understand more about our universe, since quantum physics try to explain and understand how our universe is built from the deepest subatomic dimensions to huge macroscopic phenomena. What can lead us to ask ourselves if our classical compurters are going to be able to solve and deal with problems that nature by essence shows to be a quantum complex behavior, that most likely are exponential problems for our classical computers, like the protein folding process, where dealing with several amino acids combinations we've that as the size of our amino acids basis grows the dimesion of our problem grows exponencially, what is impossible for a classical computer to solve nowdays.\n",
    "\n",
    "So the question is, how quantum computers could solve these kind of problems some day ? With a different model of treating information closer with how our universe and nature behave, from the deepest levels and beyond."
   ]
  },
  {
   "cell_type": "markdown",
   "metadata": {},
   "source": [
    "### Classical Bit vs Qubit"
   ]
  },
  {
   "attachments": {
    "image.png": {
     "image/png": "[encoded data removed]"
    }
   },
   "cell_type": "markdown",
   "metadata": {},
   "source": [
    "Our classical computers, those that we've in home, desktops, notebooks, cellphones all of them in the deepest level stores the information as different sequences of **0s** and **1s**, so as **0100100100** where each entrie is either 0 or either 1. What makes a huge difference when we compare it with how the quantum computers stores information and work with it, where a state 0 or 1 can be seen as a unitary vector state $|\\psi\\rangle$ in a Hilbert space $\\mathcal{H}$ or a Qubit, in the computational basis, defined as:\n",
    "\n",
    "\n",
    "$$\\left|\\psi\\right\\rangle = \\alpha\\left|0\\right\\rangle + \\beta\\left|1\\right\\rangle$$\n",
    "\n",
    "$$|\\alpha|^2 + |\\beta|^2 = 1$$\n",
    "\n",
    "\n",
    "![image.png](attachment:image.png)\n",
    "\n",
    "\n",
    "\n",
    "\n",
    "\n",
    "Where the scalars alpha and beta are used to see the amplitude of each state, or more generally, its probability to colapse over its respective state $|0\\rangle$ or $|1\\rangle$, which is like we could have all possible states at the same time, but we can only measure and see a small piece of this huge information."
   ]
  },
  {
   "cell_type": "markdown",
   "metadata": {},
   "source": [
    "### Quantum Superpostion and Entanglement"
   ]
  },
  {
   "cell_type": "markdown",
   "metadata": {},
   "source": [
    "As we're dealing with quantum behavior some pretty important features of quantum mechanics that are used in quantum computing are the **Quantum Superposition** and the **Quantum Entanglement**. If were given to us a state $\\psi$, when neither of its constants, lets say for example $\\alpha$ and $\\beta$, are null, we say that this state is in **superpostion**. More generally, which means that before a potential measure a phisical system is partially over all possible existants theoretical states.\n",
    "\n",
    "$$\n",
    "|\\psi\\rangle = a_0|0\\rangle + a_1|1\\rangle + \\dots + a_{n-1}|n-1 \\rangle = \\sum_{i=0}^{n-1}a_i|i\\rangle\n",
    "$$\n",
    "\n",
    "$$\n",
    "\\sum_{i = 0}^{n-1} |a_i|^2 = 1\n",
    "$$\n",
    "\n",
    "However when we measure it, it colapses to a unique state, so its like nature is doing a massive work, but it is willing to share with us just a small piece of it, a hint, for us to solve some very difficult problems.\n",
    "\n",
    "The space of these vector states can be seen by tensor product of this system states, so if we've **n** components we can write those as \n",
    "\n",
    "$$\n",
    "\\begin{align*}\n",
    "|\\Psi\\rangle &= |\\psi_0\\rangle \\otimes |\\psi_1\\rangle \\otimes \\dots \\otimes |\\psi_{n-1}\\rangle\\\\\n",
    "             &= |\\psi_0\\rangle |\\psi_1\\rangle \\dots |\\psi_{n-1}\\rangle\\\\\n",
    "             &= |\\psi_0 \\psi_1 \\dots \\psi_{n-1}\\rangle\n",
    "\\end{align*}\n",
    "$$\n",
    "\n",
    "If a state can not be writen by the tensor product of other states we've that this states is **entangled**, so as the wellknown Bell-State\n",
    "\n",
    "\n",
    "$$\n",
    "\\begin{align*}\n",
    "|\\Psi\\rangle = \\frac{|00\\rangle + |11\\rangle}{\\sqrt{2}}\n",
    "\\end{align*}\n",
    "$$\n",
    "\n",
    "\n",
    "Where if we measure one of the Qubits we know exactly the state of the other, even if the other Qubit is in the other side of the galaxy, with is forbidden by the theory of relativity, since it would be faster then the speed of light, which is known as the *EPR Paradox*."
   ]
  },
  {
   "cell_type": "markdown",
   "metadata": {},
   "source": [
    "### Programming with Quantum Gates"
   ]
  },
  {
   "attachments": {
    "image.png": {
     "image/png": "[encoded data removed]"
    }
   },
   "cell_type": "markdown",
   "metadata": {},
   "source": [
    "While Classical Computers works with simple boolean operators like *NOT, NAND, XOR, AND, OR*, Quantum Computers works with Quantum Gates, which mathematically speaking are unitary operators, that manipulates our state, so let $\\mathcal{U}$ be our unitary operator and $|\\psi\\rangle$ our qubit.\n",
    "\n",
    "$$\n",
    "UU^\\dagger = I\n",
    "$$\n",
    "\n",
    "$$\n",
    "|\\psi\\rangle \\rightarrow \\mathcal{U}|\\psi\\rangle\n",
    "$$\n",
    "\n",
    "$$\n",
    "|||\\psi\\rangle|| = ||\\mathcal{U}|\\psi\\rangle|| = 1\n",
    "$$\n",
    "\n",
    "In this context the gates that we'll use are those that work in an unique qubit, therefore our operators will be defined by $M_{2x2}$ matrices over a state $|\\psi\\rangle = \\alpha|0\\rangle + \\beta|1\\rangle$, and some of those operators are the Pauli Matrices, which besides its importance all over quantum computing, they are going to have a great importance to the understanding of the Deutsch-Jozsa Algorithm.\n",
    "\n",
    "\n",
    "$$\n",
    "\\sigma_I = I = \\begin{bmatrix}\n",
    "                1 & 0 \\\\\n",
    "                0 & 1\n",
    "               \\end{bmatrix}\n",
    "$$\n",
    "\n",
    "$$\n",
    "\\sigma_X = X = \\begin{bmatrix}\n",
    "                0 & 1 \\\\\n",
    "                1 & 0\n",
    "               \\end{bmatrix}\n",
    "$$\n",
    "\n",
    "$$\n",
    "\\sigma_Y = Y = \\begin{bmatrix}\n",
    "                0 & -i \\\\\n",
    "                i & 0\n",
    "               \\end{bmatrix}\n",
    "$$\n",
    "\n",
    "$$\n",
    "\\sigma_Z = Z = \\begin{bmatrix}\n",
    "                1 & 0 \\\\\n",
    "                0 & -1\n",
    "               \\end{bmatrix}\n",
    "               \\\\\n",
    "$$\n",
    "\n",
    "![image.png](attachment:image.png)\n",
    "\n",
    "\n",
    "As we already settled superposition is a important feature in quantum computing, how we can solve problems over multiple states at the same time, so if we've a state $|0\\rangle$ or $|1\\rangle$ and want to put it on superposition we can apply we one of the most common and important quantum gates, the Hadarmard Gate, given by the matrix\n",
    "\n",
    "$$\n",
    "\\begin{align*}\n",
    "H &= \\frac{1}{\\sqrt{2}} \\begin{bmatrix}\n",
    "                       1 & 1\\\\\n",
    "                       1 & -1\n",
    "                       \\end{bmatrix}\n",
    "\\end{align*}\n",
    "$$\n",
    "\n",
    "\n",
    "Hence, if we apply this matrix on the states $|0\\rangle$ or $|1\\rangle$ we'll get the states $|+\\rangle$ and $|-\\rangle$ respectively\n",
    "\n",
    "\n",
    "\n",
    "$$\n",
    "\\begin{align*}\n",
    "\\\\H|0\\rangle = \\frac{1}{\\sqrt{2}} \\begin{bmatrix}\n",
    "                                   1 & 1\\\\\n",
    "                                   1 & -1\n",
    "                                \\end{bmatrix} \n",
    "                                %\n",
    "             \\begin{bmatrix}\n",
    "             1 \\\\\n",
    "             0\n",
    "             \\end{bmatrix}\n",
    "             =\n",
    "             \\frac{|0\\rangle + |1\\rangle}{\\sqrt{2}}\n",
    "             =\n",
    "             |+\\rangle\n",
    "\\\\\\\\H|1\\rangle = \\frac{1}{\\sqrt{2}} \\begin{bmatrix}\n",
    "                                   1 & 1\\\\\n",
    "                                   1 & -1\n",
    "                                \\end{bmatrix} \n",
    "                                %\n",
    "             \\begin{bmatrix}\n",
    "             0 \\\\\n",
    "             1\n",
    "             \\end{bmatrix}\n",
    "             =\n",
    "             \\frac{|0\\rangle - |1\\rangle}{\\sqrt{2}}\n",
    "             =\n",
    "             |-\\rangle\n",
    "\\end{align*}\n",
    "$$\n",
    "\n",
    "Which are the resultant states after we put them on superposition. And since $H$ = $H^\\dagger$, when we apply $HH^\\dagger|\\psi\\rangle = HH^\\dagger|\\psi\\rangle = |\\psi\\rangle $, it restores it to the original input state."
   ]
  },
  {
   "cell_type": "markdown",
   "metadata": {},
   "source": [
    "This notebook will be updated soon!!!! "
   ]
  }
 ],
 "metadata": {
  "kernelspec": {
   "display_name": "Python 3",
   "language": "python",
   "name": "python3"
  },
  "language_info": {
   "codemirror_mode": {
    "name": "ipython",
    "version": 3
   },
   "file_extension": ".py",
   "mimetype": "text/x-python",
   "name": "python",
   "nbconvert_exporter": "python",
   "pygments_lexer": "ipython3",
   "version": "3.6.9"
  }
 },
 "nbformat": 4,
 "nbformat_minor": 2
}
