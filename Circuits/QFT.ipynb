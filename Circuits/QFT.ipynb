{
 "cells": [
  {
   "cell_type": "code",
   "execution_count": 3,
   "metadata": {},
   "outputs": [],
   "source": [
    "import matplotlib.pyplot as plt\n",
    "%matplotlib inline\n",
    "import numpy as np\n",
    "\n",
    "from qiskit import *\n",
    "\n",
    "from qiskit.tools.visualization import plot_histogram\n",
    "from IPython.display import display, Math, Latex"
   ]
  },
  {
   "cell_type": "code",
   "execution_count": 5,
   "metadata": {},
   "outputs": [],
   "source": [
    "def reflect(U, n):\n",
    "    for i in range(int(n/2)):\n",
    "        U.swap(i, n-i-1)\n",
    "\n",
    "def myQFT(n):\n",
    "    U = QuantumCircuit(n)\n",
    "    for x_k in range(n):\n",
    "        U.h(x_k)\n",
    "        for x_j in range(x_k+1, n):\n",
    "            angle = math.pi/2**(x_j-x_k)\n",
    "            U.cu1(angle, x_j, x_k)\n",
    "    reflect(U, n)\n",
    "    \n",
    "    U = U.to_gate()\n",
    "    U.name = 'QFT'\n",
    "    #ctl_U = U.control() make it a controlled gate\n",
    "    \n",
    "    return U"
   ]
  }
 ],
 "metadata": {
  "kernelspec": {
   "display_name": "Python 3",
   "language": "python",
   "name": "python3"
  },
  "language_info": {
   "codemirror_mode": {
    "name": "ipython",
    "version": 3
   },
   "file_extension": ".py",
   "mimetype": "text/x-python",
   "name": "python",
   "nbconvert_exporter": "python",
   "pygments_lexer": "ipython3",
   "version": "3.8.2"
  }
 },
 "nbformat": 4,
 "nbformat_minor": 4
}
