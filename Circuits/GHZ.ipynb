{
 "cells": [
  {
   "cell_type": "code",
   "execution_count": 1,
   "metadata": {},
   "outputs": [],
   "source": [
    "import matplotlib.pyplot as plt\n",
    "%matplotlib inline\n",
    "import numpy as np\n",
    "\n",
    "from qiskit import *\n",
    "\n",
    "from qiskit.tools.visualization import plot_histogram\n",
    "from IPython.display import display, Math, Latex"
   ]
  },
  {
   "cell_type": "code",
   "execution_count": 2,
   "metadata": {},
   "outputs": [],
   "source": [
    "def BuildGHZ(n):\n",
    "    U = QuantumCircuit(n)\n",
    "    U.h(0)\n",
    "    for i in range(1, n):\n",
    "        U.cx(0, i)\n",
    "    \n",
    "    U = U.to_gate()\n",
    "    U.name = 'Build GHZ'\n",
    "    #ctl_U = U.control() make it a controlled gate\n",
    "    \n",
    "    return U"
   ]
  }
 ],
 "metadata": {
  "kernelspec": {
   "display_name": "Python 3",
   "language": "python",
   "name": "python3"
  },
  "language_info": {
   "codemirror_mode": {
    "name": "ipython",
    "version": 3
   },
   "file_extension": ".py",
   "mimetype": "text/x-python",
   "name": "python",
   "nbconvert_exporter": "python",
   "pygments_lexer": "ipython3",
   "version": "3.8.2"
  }
 },
 "nbformat": 4,
 "nbformat_minor": 4
}
